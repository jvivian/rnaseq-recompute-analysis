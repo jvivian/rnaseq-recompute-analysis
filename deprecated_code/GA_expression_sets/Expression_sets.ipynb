{
 "cells": [
  {
   "cell_type": "code",
   "execution_count": 62,
   "metadata": {
    "collapsed": true
   },
   "outputs": [],
   "source": [
    "%matplotlib inline\n",
    "import matplotlib.pyplot as plt\n",
    "import seaborn as sns\n",
    "import pandas as pd\n",
    "import os\n",
    "import numpy as np"
   ]
  },
  {
   "cell_type": "markdown",
   "metadata": {},
   "source": [
    "# Analyzing Results in the Context of GA Expression Sets\n",
    "\n",
    "Through GeneAnalytics we have 9 tissue sets we can use for validation comparisons of our gene sets gathered from various experiments"
   ]
  },
  {
   "cell_type": "code",
   "execution_count": 63,
   "metadata": {
    "collapsed": true
   },
   "outputs": [],
   "source": [
    "def return_genes(ga_name, exp_name):\n",
    "    primary = exp_set[ga_name]\n",
    "    pw_genes = list(pwise[exp_name].index)\n",
    "    tvn_genes = list(tvn[exp_name].index)\n",
    "    match_genes = list(matched[exp_name].index)\n",
    "    return primary, pw_genes, tvn_genes, match_genes\n",
    "\n",
    "def barplot_methods(ga_name, exp_name):\n",
    "    primary, p, t, m = return_genes(ga_name, exp_name)\n",
    "    vals = [len(primary.intersection(set(x[:n]))) for x in [p, t, m]]\n",
    "    sns.barplot(['Pwise', 'TvN', 'Matched'], vals)\n",
    "    plt.title('Total Genes: ' + str(len(primary)))\n",
    "    print vals"
   ]
  },
  {
   "cell_type": "code",
   "execution_count": 64,
   "metadata": {
    "collapsed": false
   },
   "outputs": [],
   "source": [
    "exp_tsvs = [x for x in os.listdir('.') if x.endswith('.tsv')]\n",
    "exp = {}\n",
    "exp_set = {}\n",
    "for tsv in exp_tsvs:\n",
    "    exp[tsv[:-4]] = pd.read_csv(tsv, sep='\\t')\n",
    "    exp_set[tsv[:-4]] = set(exp[tsv[:-4]].Gene)"
   ]
  },
  {
   "cell_type": "code",
   "execution_count": 65,
   "metadata": {
    "collapsed": false
   },
   "outputs": [],
   "source": [
    "pwise = {}\n",
    "tissues = set([x.split('-')[0] for x in os.listdir('../pairwise-tcga/results/')])\n",
    "for result in tissues:\n",
    "    pwise[result] = pd.read_csv('../pairwise-tcga/results/' + result + '-results.tsv', index_col=0, sep='\\t')\n",
    "    pwise[result]['pval_count_percentage'] = pwise[result]['pval_counts'] / pwise[result]['num_samples']\n",
    "    \n",
    "result_paths = [x for x in os.listdir('../tcga-tumor-vs-normal/results') if '.tsv' in x]\n",
    "tvn = {}\n",
    "for result in result_paths:\n",
    "    tvn[result.split('-')[0]] = pd.read_csv(os.path.join('../tcga-tumor-vs-normal/results', result), index_col=0, sep='\\t')\n",
    "\n",
    "result_paths = [x for x in os.listdir('../tcga-matched/results') if '.tsv' in x]\n",
    "matched = {}\n",
    "for result in result_paths:\n",
    "    matched[result.split('-')[0]] = pd.read_csv(os.path.join('../tcga-matched/results', result), index_col=0, sep='\\t')"
   ]
  },
  {
   "cell_type": "markdown",
   "metadata": {},
   "source": [
    "For what tissues do we have expression sets for?"
   ]
  },
  {
   "cell_type": "code",
   "execution_count": 66,
   "metadata": {
    "collapsed": false
   },
   "outputs": [
    {
     "name": "stdout",
     "output_type": "stream",
     "text": [
      "Breast_Cancer\n",
      "Cervical_Cancer\n",
      "Colorectal_Cancer\n",
      "Head_and_Neck_Squamous\n",
      "Hepatocellular_Cancer\n",
      "Lung_Cancer\n",
      "Pancreatic_Cancer\n",
      "Prostate_Cancer\n",
      "Renal_Cell_Carcinoma\n"
     ]
    }
   ],
   "source": [
    "print '\\n'.join(sorted(exp.keys()))"
   ]
  },
  {
   "cell_type": "code",
   "execution_count": 67,
   "metadata": {
    "collapsed": true
   },
   "outputs": [],
   "source": [
    "df = pd.DataFrame()\n",
    "tissues, counts, types = [], [], []"
   ]
  },
  {
   "cell_type": "markdown",
   "metadata": {},
   "source": [
    "### Breast"
   ]
  },
  {
   "cell_type": "code",
   "execution_count": 68,
   "metadata": {
    "collapsed": true
   },
   "outputs": [],
   "source": [
    "n = 100"
   ]
  },
  {
   "cell_type": "code",
   "execution_count": 69,
   "metadata": {
    "collapsed": false
   },
   "outputs": [
    {
     "name": "stdout",
     "output_type": "stream",
     "text": [
      "[10, 9, 15]\n"
     ]
    },
    {
     "data": {
      "image/png": "[encoded data removed]",
      "text/plain": [
       "<matplotlib.figure.Figure at 0x115684a50>"
      ]
     },
     "metadata": {},
     "output_type": "display_data"
    }
   ],
   "source": [
    "barplot_methods('Breast_Cancer', 'breast')\n",
    "counts.extend([10, 9, 15])\n",
    "tissues.extend( ['Breast'] * 3)"
   ]
  },
  {
   "cell_type": "markdown",
   "metadata": {
    "collapsed": true
   },
   "source": [
    "## Cerivcal Cancer"
   ]
  },
  {
   "cell_type": "code",
   "execution_count": 70,
   "metadata": {
    "collapsed": false
   },
   "outputs": [
    {
     "name": "stdout",
     "output_type": "stream",
     "text": [
      "[5, 10, 7]\n"
     ]
    },
    {
     "data": {
      "image/png": "[encoded data removed]",
      "text/plain": [
       "<matplotlib.figure.Figure at 0x12164c310>"
      ]
     },
     "metadata": {},
     "output_type": "display_data"
    }
   ],
   "source": [
    "barplot_methods('Cervical_Cancer', 'cervix')\n",
    "counts.extend([5, 10, 7])\n",
    "tissues.extend(['Cervix'] * 3)"
   ]
  },
  {
   "cell_type": "markdown",
   "metadata": {
    "collapsed": true
   },
   "source": [
    "## Colorectal_Cancer"
   ]
  },
  {
   "cell_type": "code",
   "execution_count": 71,
   "metadata": {
    "collapsed": false
   },
   "outputs": [
    {
     "name": "stdout",
     "output_type": "stream",
     "text": [
      "[11, 8, 12]\n"
     ]
    },
    {
     "data": {
      "image/png": "[encoded data removed]",
      "text/plain": [
       "<matplotlib.figure.Figure at 0x120c6c810>"
      ]
     },
     "metadata": {},
     "output_type": "display_data"
    }
   ],
   "source": [
    "barplot_methods('Colorectal_Cancer', 'colon')\n",
    "counts.extend([11, 8, 12])\n",
    "tissues.extend(['Colon']*3)"
   ]
  },
  {
   "cell_type": "markdown",
   "metadata": {
    "collapsed": true
   },
   "source": [
    "## Hepatocellular_Cancer"
   ]
  },
  {
   "cell_type": "code",
   "execution_count": 72,
   "metadata": {
    "collapsed": false
   },
   "outputs": [
    {
     "name": "stdout",
     "output_type": "stream",
     "text": [
      "[1, 0, 0]\n"
     ]
    },
    {
     "data": {
      "image/png": "[encoded data removed]",
      "text/plain": [
       "<matplotlib.figure.Figure at 0x12182e550>"
      ]
     },
     "metadata": {},
     "output_type": "display_data"
    }
   ],
   "source": [
    "barplot_methods('Hepatocellular_Cancer', 'liver')\n",
    "counts.extend([1, 0, 0])\n",
    "tissues.extend(['Liver']*3)"
   ]
  },
  {
   "cell_type": "markdown",
   "metadata": {
    "collapsed": true
   },
   "source": [
    "## Lung_Cancer"
   ]
  },
  {
   "cell_type": "code",
   "execution_count": 73,
   "metadata": {
    "collapsed": false
   },
   "outputs": [
    {
     "name": "stdout",
     "output_type": "stream",
     "text": [
      "[31, 29, 26]\n"
     ]
    },
    {
     "data": {
      "image/png": "[encoded data removed]",
      "text/plain": [
       "<matplotlib.figure.Figure at 0x121839490>"
      ]
     },
     "metadata": {},
     "output_type": "display_data"
    }
   ],
   "source": [
    "barplot_methods('Lung_Cancer', 'lung_adenocarcinoma')\n",
    "counts.extend([31, 29, 26])\n",
    "tissues.extend(['Lung_adeno']*3)"
   ]
  },
  {
   "cell_type": "code",
   "execution_count": 74,
   "metadata": {
    "collapsed": false
   },
   "outputs": [
    {
     "name": "stdout",
     "output_type": "stream",
     "text": [
      "[42, 39, 38]\n"
     ]
    },
    {
     "data": {
      "image/png": "[encoded data removed]",
      "text/plain": [
       "<matplotlib.figure.Figure at 0x121d325d0>"
      ]
     },
     "metadata": {},
     "output_type": "display_data"
    }
   ],
   "source": [
    "barplot_methods('Lung_Cancer', 'lung_squamous')\n",
    "counts.extend([42, 39, 38])\n",
    "tissues.extend(['Lung_squamous']*3)"
   ]
  },
  {
   "cell_type": "markdown",
   "metadata": {
    "collapsed": true
   },
   "source": [
    "## Pancreatic_Cancer"
   ]
  },
  {
   "cell_type": "code",
   "execution_count": 75,
   "metadata": {
    "collapsed": false
   },
   "outputs": [
    {
     "name": "stdout",
     "output_type": "stream",
     "text": [
      "[6, 4, 4]\n"
     ]
    },
    {
     "data": {
      "image/png": "[encoded data removed]",
      "text/plain": [
       "<matplotlib.figure.Figure at 0x1224f0250>"
      ]
     },
     "metadata": {},
     "output_type": "display_data"
    }
   ],
   "source": [
    "barplot_methods('Pancreatic_Cancer', 'pancreas')\n",
    "counts.extend([6, 4, 4])\n",
    "tissues.extend(['Pancreas']*3)"
   ]
  },
  {
   "cell_type": "markdown",
   "metadata": {
    "collapsed": true
   },
   "source": [
    "## Prostate_Cancer"
   ]
  },
  {
   "cell_type": "code",
   "execution_count": 76,
   "metadata": {
    "collapsed": false
   },
   "outputs": [
    {
     "name": "stdout",
     "output_type": "stream",
     "text": [
      "[3, 4, 2]\n"
     ]
    },
    {
     "data": {
      "image/png": "[encoded data removed]",
      "text/plain": [
       "<matplotlib.figure.Figure at 0x122415150>"
      ]
     },
     "metadata": {},
     "output_type": "display_data"
    }
   ],
   "source": [
    "barplot_methods('Prostate_Cancer', 'prostate')\n",
    "counts.extend([3, 4, 2])\n",
    "tissues.extend(['Prostate']*3)"
   ]
  },
  {
   "cell_type": "markdown",
   "metadata": {
    "collapsed": true
   },
   "source": [
    "### Renal_Cell_Carcinoma"
   ]
  },
  {
   "cell_type": "code",
   "execution_count": 77,
   "metadata": {
    "collapsed": false
   },
   "outputs": [
    {
     "name": "stdout",
     "output_type": "stream",
     "text": [
      "[61, 45, 65]\n"
     ]
    },
    {
     "data": {
      "image/png": "[encoded data removed]",
      "text/plain": [
       "<matplotlib.figure.Figure at 0x121d6c950>"
      ]
     },
     "metadata": {},
     "output_type": "display_data"
    }
   ],
   "source": [
    "barplot_methods('Renal_Cell_Carcinoma', 'kidney')\n",
    "counts.extend([61, 45, 65])\n",
    "tissues.extend(['Kidney']*3)"
   ]
  },
  {
   "cell_type": "code",
   "execution_count": 79,
   "metadata": {
    "collapsed": false
   },
   "outputs": [],
   "source": [
    "types = ['Pwise', 'TvN', 'Matched'] * 9"
   ]
  },
  {
   "cell_type": "code",
   "execution_count": 87,
   "metadata": {
    "collapsed": true
   },
   "outputs": [],
   "source": [
    "df['Counts'] = counts\n",
    "df['Tissues'] = tissues\n",
    "df['Method'] = types"
   ]
  },
  {
   "cell_type": "code",
   "execution_count": 91,
   "metadata": {
    "collapsed": false
   },
   "outputs": [
    {
     "data": {
      "text/plain": [
       "<matplotlib.text.Text at 0x122404050>"
      ]
     },
     "execution_count": 91,
     "metadata": {},
     "output_type": "execute_result"
    },
    {
     "data": {
      "image/png": "[encoded data removed]",
      "text/plain": [
       "<matplotlib.figure.Figure at 0x122da1c50>"
      ]
     },
     "metadata": {},
     "output_type": "display_data"
    }
   ],
   "source": [
    "f, ax = plt.subplots(figsize=(16, 8))\n",
    "sns.barplot('Tissues', 'Counts', hue='Method', data=df, ax=ax)\n",
    "ax.set_ylabel('Counts')"
   ]
  },
  {
   "cell_type": "markdown",
   "metadata": {
    "collapsed": true
   },
   "source": [
    "## DESeq2 Runtime"
   ]
  },
  {
   "cell_type": "code",
   "execution_count": 95,
   "metadata": {
    "collapsed": false
   },
   "outputs": [
    {
     "data": {
      "text/plain": [
       "<matplotlib.text.Text at 0x123278790>"
      ]
     },
     "execution_count": 95,
     "metadata": {},
     "output_type": "execute_result"
    },
    {
     "data": {
      "image/png": "[encoded data removed]",
      "text/plain": [
       "<matplotlib.figure.Figure at 0x1230cba10>"
      ]
     },
     "metadata": {},
     "output_type": "display_data"
    }
   ],
   "source": [
    "samples = [2, 4, 8, 16, 32, 64, 128, 256, 512, 1024]\n",
    "times = [55.0/60, 55.0/60, 55.0/60, 1 + 2.0/60, 1 + 8.0/60, 1 + 22.0/60, 4.5, 12, 42, 3*60]\n",
    "\n",
    "plt.plot(samples, times)\n",
    "plt.xlabel('Number of Samples')\n",
    "plt.ylabel('Minutes')\n",
    "plt.title('DESeq2 Runtime')"
   ]
  },
  {
   "cell_type": "code",
   "execution_count": null,
   "metadata": {
    "collapsed": true
   },
   "outputs": [],
   "source": [
    ""
   ]
  }
 ],
 "metadata": {
  "kernelspec": {
   "display_name": "Python 2",
   "language": "python",
   "name": "python2"
  },
  "language_info": {
   "codemirror_mode": {
    "name": "ipython",
    "version": 2.0
   },
   "file_extension": ".py",
   "mimetype": "text/x-python",
   "name": "python",
   "nbconvert_exporter": "python",
   "pygments_lexer": "ipython2",
   "version": "2.7.11"
  }
 },
 "nbformat": 4,
 "nbformat_minor": 0
}