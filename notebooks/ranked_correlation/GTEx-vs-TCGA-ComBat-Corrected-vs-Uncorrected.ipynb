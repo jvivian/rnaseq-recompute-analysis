{
 "cells": [
  {
   "cell_type": "code",
   "execution_count": null,
   "metadata": {
    "collapsed": true
   },
   "outputs": [],
   "source": [
    "%matplotlib inline\n",
    "import matplotlib.pyplot as plt\n",
    "import os\n",
    "import seaborn as sns\n",
    "import numpy as np\n",
    "import pandas as pd\n",
    "from collections import defaultdict, OrderedDict\n",
    "from tqdm import tqdm\n",
    "import pickle\n",
    "from scipy.stats import pearsonr\n",
    "\n",
    "sns.set_style('whitegrid')"
   ]
  },
  {
   "cell_type": "markdown",
   "metadata": {},
   "source": [
    "# Combat Corrected vs Uncorrected - GTEx vs TCGA\n",
    "\n",
    "**Steps**\n",
    "- Run ComBat as discussed [here](https://github.com/jvivian/rnaseq-recompute-analysis/blob/master/notebooks/ranked_correlation/ComBat%20Batch%20Correction%20Concordance.ipynb)\n",
    "- Run DESeq2 comparing GTEx to TCGA tumors across all tissues\n",
    "- Repeat above, but use the ComBat corrected dataset\n",
    "- Plot gene ranks"
   ]
  },
  {
   "cell_type": "code",
   "execution_count": 1,
   "metadata": {
    "collapsed": true
   },
   "outputs": [],
   "source": [
    "def plot_ranks(ref_genes, genes_to_rank, tissue):\n",
    "    temp = {}\n",
    "    rank = []\n",
    "    inter = set(ref_genes).intersection(set(genes_to_rank))\n",
    "    ref_genes = [x for x in ref_genes if x in inter]\n",
    "    genes_to_rank = [x for x in genes_to_rank if x in inter]\n",
    "    print 'Length of intersection: {}'.format(len(inter))\n",
    "    for i, gene in enumerate(ref_genes):\n",
    "        temp[gene] = i\n",
    "    for gene in genes_to_rank:\n",
    "        rank.append(temp[gene])\n",
    "    g = sns.jointplot(np.array([x for x in xrange(len(rank))]), \n",
    "                  np.array(rank), kind='reg')\n",
    "    g.ax_joint.collections[0].set_alpha(0.1)\n",
    "    plt.xlabel('Single Analysis of 113 Normal vs 14 Tumor')\n",
    "    plt.ylabel('Combined Analysis of 113 Normal vs 1092 Tumor - Chunk Size 14')\n",
    "    plt.show()"
   ]
  },
  {
   "cell_type": "code",
   "execution_count": null,
   "metadata": {
    "collapsed": true
   },
   "outputs": [],
   "source": []
  },
  {
   "cell_type": "code",
   "execution_count": null,
   "metadata": {
    "collapsed": true
   },
   "outputs": [],
   "source": []
  },
  {
   "cell_type": "code",
   "execution_count": null,
   "metadata": {
    "collapsed": true
   },
   "outputs": [],
   "source": []
  },
  {
   "cell_type": "code",
   "execution_count": null,
   "metadata": {
    "collapsed": true
   },
   "outputs": [],
   "source": []
  },
  {
   "cell_type": "code",
   "execution_count": null,
   "metadata": {
    "collapsed": true
   },
   "outputs": [],
   "source": []
  },
  {
   "cell_type": "code",
   "execution_count": null,
   "metadata": {
    "collapsed": true
   },
   "outputs": [],
   "source": []
  },
  {
   "cell_type": "code",
   "execution_count": null,
   "metadata": {
    "collapsed": true
   },
   "outputs": [],
   "source": []
  }
 ],
 "metadata": {
  "kernelspec": {
   "display_name": "Python 2",
   "language": "python",
   "name": "python2"
  },
  "language_info": {
   "codemirror_mode": {
    "name": "ipython",
    "version": 2
   },
   "file_extension": ".py",
   "mimetype": "text/x-python",
   "name": "python",
   "nbconvert_exporter": "python",
   "pygments_lexer": "ipython2",
   "version": "2.7.11"
  }
 },
 "nbformat": 4,
 "nbformat_minor": 0
}
