{
 "cells": [
  {
   "cell_type": "markdown",
   "metadata": {},
   "source": [
    "# Mapping Objects \n",
    "\n",
    "Create mappings (hash tables / dictionaries) used in downstream analyses.\n",
    "\n",
    "**Inputs**\n",
    "\n",
    "- TCGA/GTEx Metadata\n",
    "    - syn9962462\n",
    "- ENSEMBLE Genes\n",
    "    - syn10156423"
   ]
  },
  {
   "cell_type": "code",
   "execution_count": 6,
   "metadata": {
    "collapsed": true
   },
   "outputs": [],
   "source": [
    "import pickle\n",
    "import os\n",
    "\n",
    "import pandas as pd\n",
    "from mygene import MyGeneInfo"
   ]
  },
  {
   "cell_type": "code",
   "execution_count": 7,
   "metadata": {
    "collapsed": true
   },
   "outputs": [],
   "source": [
    "df = pd.read_csv('inputs/tcga_gtex_metadata_intersect.tsv', index_col=0, sep='\\t')"
   ]
  },
  {
   "cell_type": "markdown",
   "metadata": {},
   "source": [
    "## Tissue Map\n",
    "Map samples to tissues"
   ]
  },
  {
   "cell_type": "code",
   "execution_count": 8,
   "metadata": {
    "collapsed": false
   },
   "outputs": [],
   "source": [
    "tissue_map = {}\n",
    "for sample in df.index:\n",
    "    tissue_map[sample] = df.loc[sample].tissue\n",
    "with open('pickles/tissue_map.pickle', 'wb') as f:\n",
    "    pickle.dump(tissue_map, f)"
   ]
  },
  {
   "cell_type": "markdown",
   "metadata": {},
   "source": [
    "## Type Map\n",
    "Map samples to \"type\", which for TCGA is disease and for GTEx is long-form tissue"
   ]
  },
  {
   "cell_type": "code",
   "execution_count": 9,
   "metadata": {
    "collapsed": true
   },
   "outputs": [],
   "source": [
    "type_map = {}\n",
    "for sample in df.index:\n",
    "    type_map[sample] = df.loc[sample].type\n",
    "with open('pickles/type_map.pickle', 'wb') as f:\n",
    "    pickle.dump(type_map, f)"
   ]
  },
  {
   "cell_type": "markdown",
   "metadata": {},
   "source": [
    "## Gene Map\n",
    "Maps ENSMBL Gene IDs to Gene names"
   ]
  },
  {
   "cell_type": "code",
   "execution_count": 10,
   "metadata": {
    "collapsed": true
   },
   "outputs": [],
   "source": [
    "genes = [x.strip() for x in open('inputs/ENS_genes.txt', 'r').readlines()]"
   ]
  },
  {
   "cell_type": "code",
   "execution_count": 11,
   "metadata": {
    "collapsed": true
   },
   "outputs": [],
   "source": [
    "mg = MyGeneInfo()"
   ]
  },
  {
   "cell_type": "code",
   "execution_count": 12,
   "metadata": {
    "collapsed": false
   },
   "outputs": [
    {
     "name": "stdout",
     "output_type": "stream",
     "text": [
      "212 genes unmapped of 19797 total genes.\n",
      "0.989291306764% Mapped\n"
     ]
    }
   ],
   "source": [
    "gene_map = {}\n",
    "unmapped_genes = []\n",
    "for gene in genes:\n",
    "    g = gene.split('.')[0]  # remove ENS version tag\n",
    "    q = mg.query(g)\n",
    "    if q['hits']:\n",
    "        h = q['hits']\n",
    "        if len(h) > 2:\n",
    "            print h\n",
    "            break\n",
    "        else:\n",
    "            gene_map[g] = h[0]['symbol']\n",
    "    else:\n",
    "        unmapped_genes.append(g)\n",
    "        gene_map[g] = g\n",
    "print '{} genes unmapped of {} total genes.'.format(len(unmapped_genes), len(gene_map))\n",
    "print '{}% Mapped'.format((len(gene_map) - 212) *1.0 / len(gene_map))"
   ]
  },
  {
   "cell_type": "code",
   "execution_count": 13,
   "metadata": {
    "collapsed": true
   },
   "outputs": [],
   "source": [
    "with open('pickles/gene_map.pickle', 'wb') as f:\n",
    "    pickle.dump(gene_map, f)"
   ]
  }
 ],
 "metadata": {
  "kernelspec": {
   "display_name": "Python 2",
   "language": "python",
   "name": "python2"
  },
  "language_info": {
   "codemirror_mode": {
    "name": "ipython",
    "version": 2
   },
   "file_extension": ".py",
   "mimetype": "text/x-python",
   "name": "python",
   "nbconvert_exporter": "python",
   "pygments_lexer": "ipython2",
   "version": "2.7.11"
  }
 },
 "nbformat": 4,
 "nbformat_minor": 0
}
