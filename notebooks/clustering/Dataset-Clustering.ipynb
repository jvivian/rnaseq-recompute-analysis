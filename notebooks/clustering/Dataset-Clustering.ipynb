{
 "cells": [
  {
   "cell_type": "code",
   "execution_count": 3,
   "metadata": {
    "collapsed": false
   },
   "outputs": [],
   "source": [
    "%matplotlib inline\n",
    "import bokeh\n",
    "from bokeh.io import output_notebook\n",
    "from bokeh.charts import Scatter, output_file, show, Bar\n",
    "from bokeh.palettes import Accent, Category20c\n",
    "from bokeh.models import Range1d\n",
    "from bokeh.resources import CDN\n",
    "from bokeh.embed import file_html, autoload_static\n",
    "\n",
    "import os\n",
    "import sys\n",
    "from itertools import combinations\n",
    "import matplotlib.pyplot as plt\n",
    "import pandas as pd\n",
    "import numpy as np\n",
    "import seaborn as sns\n",
    "from scipy.stats.mstats import gmean\n",
    "from sklearn.manifold import TSNE\n",
    "from sklearn.decomposition import TruncatedSVD\n",
    "import pickle\n",
    "\n",
    "from notebooks import log_progress\n",
    "\n",
    "sns.set_style('whitegrid')"
   ]
  },
  {
   "cell_type": "markdown",
   "metadata": {},
   "source": [
    "# Dataset Clustering\n",
    "\n",
    "Cluster exploration of our [GTEx](https://www.gtexportal.org/home/) and [TCGA](https://cancergenome.nih.gov/) dataset of [RNA-seq samples](https://xenabrowser.net/datapages/?host=https://toil.xenahubs.net) to help grasp the complexity and \"structure\" of the data. \n",
    "\n",
    "All rendered plots are available:  "
   ]
  },
  {
   "cell_type": "markdown",
   "metadata": {},
   "source": [
    "## Cluster Entire Dataset Using t-SNE and PCA\n",
    "\n",
    "Voices in the wind have mentioned that running PCA before t-SNE is a common preprocessing step that drastically reduces how long it takes to render a final t-SNE plot. \"Components\" refers to the number of dimensions for each sample, which starts at ~20,000 protein-coding genes. \n",
    "\n",
    "- Read in dataframes across all tissues\n",
    "- Run PCA to reduce from ~20k to 10 components\n",
    "- Run t-SNE to get 2 components\n",
    "- Plot, make interactive"
   ]
  },
  {
   "cell_type": "markdown",
   "metadata": {},
   "source": [
    "Read in expression dataframes for each tissue"
   ]
  },
  {
   "cell_type": "code",
   "execution_count": 5,
   "metadata": {
    "collapsed": false
   },
   "outputs": [],
   "source": [
    "exp_dir = '../../data/expression-PC/'\n",
    "tissues = os.listdir(exp_dir)\n",
    "tsv = 'combined-gtex-tcga-counts-protein-coding.tsv'\n",
    "exp_df = pd.concat([pd.read_csv(os.path.join(exp_dir, t, tsv), \n",
    "                             sep='\\t', index_col=0) for t in tissues], axis=1)"
   ]
  },
  {
   "cell_type": "markdown",
   "metadata": {},
   "source": [
    "Remove duplicate columns"
   ]
  },
  {
   "cell_type": "code",
   "execution_count": 6,
   "metadata": {
    "collapsed": false
   },
   "outputs": [],
   "source": [
    "exp_df = exp_df.T.groupby(level=0).first().T"
   ]
  },
  {
   "cell_type": "markdown",
   "metadata": {},
   "source": [
    "Subset for just tumor and normal samples"
   ]
  },
  {
   "cell_type": "code",
   "execution_count": 7,
   "metadata": {
    "collapsed": false
   },
   "outputs": [],
   "source": [
    "samples = [x for x in exp_df.columns if x.startswith('GTEX') or (x.endswith('01') or x.endswith('11'))]\n",
    "exp_df = exp_df[samples]"
   ]
  },
  {
   "cell_type": "markdown",
   "metadata": {},
   "source": [
    "Transpose dataframe (for PCA)"
   ]
  },
  {
   "cell_type": "code",
   "execution_count": 8,
   "metadata": {
    "collapsed": false
   },
   "outputs": [],
   "source": [
    "exp_df = exp_df.T"
   ]
  },
  {
   "cell_type": "markdown",
   "metadata": {},
   "source": [
    "Apply $\\mbox{log2}(x + 1)$ normalization to counts."
   ]
  },
  {
   "cell_type": "code",
   "execution_count": 9,
   "metadata": {
    "collapsed": true
   },
   "outputs": [],
   "source": [
    "exp_df = exp_df.apply(lambda x: np.log2(x + 1))"
   ]
  },
  {
   "cell_type": "markdown",
   "metadata": {},
   "source": [
    "Reduce number of features down to 50 with TruncatedSVD to speed up t-SNE"
   ]
  },
  {
   "cell_type": "code",
   "execution_count": 10,
   "metadata": {
    "collapsed": false
   },
   "outputs": [],
   "source": [
    "y = TruncatedSVD(n_components=50, random_state=0).fit_transform(np.array(exp_df))"
   ]
  },
  {
   "cell_type": "markdown",
   "metadata": {},
   "source": [
    "Run t-SNE"
   ]
  },
  {
   "cell_type": "code",
   "execution_count": 11,
   "metadata": {
    "collapsed": false
   },
   "outputs": [
    {
     "name": "stdout",
     "output_type": "stream",
     "text": [
      "[t-SNE] Computing pairwise distances...\n",
      "[t-SNE] Computing 151 nearest neighbors...\n",
      "[t-SNE] Computed conditional probabilities for sample 1000 / 10864\n",
      "[t-SNE] Computed conditional probabilities for sample 2000 / 10864\n",
      "[t-SNE] Computed conditional probabilities for sample 3000 / 10864\n",
      "[t-SNE] Computed conditional probabilities for sample 4000 / 10864\n",
      "[t-SNE] Computed conditional probabilities for sample 5000 / 10864\n",
      "[t-SNE] Computed conditional probabilities for sample 6000 / 10864\n",
      "[t-SNE] Computed conditional probabilities for sample 7000 / 10864\n",
      "[t-SNE] Computed conditional probabilities for sample 8000 / 10864\n",
      "[t-SNE] Computed conditional probabilities for sample 9000 / 10864\n",
      "[t-SNE] Computed conditional probabilities for sample 10000 / 10864\n",
      "[t-SNE] Computed conditional probabilities for sample 10864 / 10864\n",
      "[t-SNE] Mean sigma: 29.924147\n",
      "[t-SNE] Iteration 25: error = 1.1560246, gradient norm = 0.0005223\n",
      "[t-SNE] Iteration 25: gradient norm 0.000522. Finished.\n",
      "[t-SNE] Iteration 50: error = 1.1145493, gradient norm = 0.0038335\n",
      "[t-SNE] Iteration 75: error = 1.0928801, gradient norm = 0.0029320\n",
      "[t-SNE] Iteration 100: error = 1.0878646, gradient norm = 0.0027910\n",
      "[t-SNE] KL divergence after 100 iterations with early exaggeration: 1.087865\n",
      "[t-SNE] Iteration 125: error = 1.0520006, gradient norm = 0.0019784\n",
      "[t-SNE] Iteration 150: error = 1.0397288, gradient norm = 0.0017733\n",
      "[t-SNE] Iteration 175: error = 1.0366325, gradient norm = 0.0017289\n",
      "[t-SNE] Iteration 200: error = 1.0357976, gradient norm = 0.0017174\n",
      "[t-SNE] Iteration 225: error = 1.0355576, gradient norm = 0.0017142\n",
      "[t-SNE] Iteration 250: error = 1.0354913, gradient norm = 0.0017134\n",
      "[t-SNE] Iteration 275: error = 1.0354741, gradient norm = 0.0017132\n",
      "[t-SNE] Iteration 300: error = 1.0354694, gradient norm = 0.0017131\n",
      "[t-SNE] Iteration 325: error = 1.0354682, gradient norm = 0.0017131\n",
      "[t-SNE] Iteration 325: error difference 0.000000. Finished.\n",
      "[t-SNE] Error after 325 iterations: 1.087865\n"
     ]
    }
   ],
   "source": [
    "for perplexity in [20, 30, 40, 50]:\n",
    "    for lr in [500, 750, 1000]:      \n",
    "        model = TSNE(n_components=2, random_state=1, perplexity=50, learning_rate=1000, verbose=2)\n",
    "        z = model.fit_transform(np.array(y))\n",
    "        \n",
    "        tissue_map = pickle.load(open('../../data/tissue_map.pickle', 'rb'))\n",
    "        df = pd.DataFrame()\n",
    "        df['sample'] = samples\n",
    "        df['tissue'] = [tissue_map[x].capitalize() for x in samples]\n",
    "        df['x'] = z[:, 0]\n",
    "        df['y'] = z[:, 1]\n",
    "\n",
    "        types = []\n",
    "        for sample in samples:\n",
    "            if sample.startswith('GTEX'):\n",
    "                types.append('GTEX')\n",
    "            elif sample.endswith('01'):\n",
    "                types.append('TCGA-Tumor')\n",
    "            elif sample.endswith('11'):\n",
    "                types.append('TCGA-Normal')\n",
    "        df['type'] = types\n",
    "        \n",
    "        tooltips=[\n",
    "        ('Tissue', '@tissue'),\n",
    "        ('Type', '@type'),\n",
    "        ('Sample', '@sample'),\n",
    "        ]\n",
    "\n",
    "    p = Scatter(df, x='x', y='y', title=\"t-SNE of GTEx and TCGA RNA-seq Expression\",\n",
    "                xlabel=\"1\", ylabel=\"2\",\n",
    "                color='tissue',\n",
    "                tooltips=tooltips,\n",
    "                legend=True,\n",
    "                plot_width=1024, plot_height=1024,\n",
    "                palette=Category20c[20],\n",
    "                responsive=True)\n",
    "\n",
    "    p.title.align = 'center'\n",
    "\n",
    "    js, tag = autoload_static(p, CDN, \"js/bokeh/expression-PC.js\")\n",
    "    with open(\"expression-PC.js\", 'w') as f:\n",
    "        f.write(js)\n",
    "    with open(\"expression-PC.tag\", 'a') as f:\n",
    "        f.write(tag)"
   ]
  },
  {
   "cell_type": "markdown",
   "metadata": {},
   "source": [
    "Create dataframe object which we'll use to render the plot"
   ]
  },
  {
   "cell_type": "code",
   "execution_count": 27,
   "metadata": {
    "collapsed": false
   },
   "outputs": [],
   "source": []
  },
  {
   "cell_type": "markdown",
   "metadata": {},
   "source": [
    "Plot"
   ]
  },
  {
   "cell_type": "code",
   "execution_count": 30,
   "metadata": {
    "collapsed": false
   },
   "outputs": [],
   "source": []
  },
  {
   "cell_type": "markdown",
   "metadata": {},
   "source": [
    "## Clustering for All Individual Tissues\n",
    "\n",
    "Let's functionize the above to stay DRY and repeat for each individual tissue, labeling the dataset each tissue comes from as the primary legend. "
   ]
  },
  {
   "cell_type": "code",
   "execution_count": 24,
   "metadata": {
    "collapsed": true
   },
   "outputs": [],
   "source": [
    "def process_and_plot_tissue(df, title):\n",
    "    # Remove duplicate columns\n",
    "    df = df.T.groupby(level=0).first().T\n",
    "    # Subset just tumor / normal\n",
    "    samples = [x for x in df.columns if x.startswith('GTEX') or (x.endswith('01') or x.endswith('11'))]\n",
    "    df = df[samples]\n",
    "    # Transpose DF for PCA / t-SNE\n",
    "    df = df.T\n",
    "    # Log Normalize\n",
    "    df = df.apply(lambda x: np.log2(x + 1))\n",
    "    # Reduce to 50 components\n",
    "    y = TruncatedSVD(n_components=50, random_state=0).fit_transform(np.array(df))\n",
    "    # t-SNE\n",
    "    model = TSNE(n_components=2, random_state=1)\n",
    "    z = model.fit_transform(np.array(y))\n",
    "    \n",
    "    # Create dataframe for plot\n",
    "    tissue_map = pickle.load(open('../../data/tissue_map.pickle', 'rb'))\n",
    "    df = pd.DataFrame()\n",
    "    df['sample'] = samples\n",
    "    df['tissue'] = [tissue_map[x].capitalize() for x in samples]\n",
    "    df['x'] = z[:, 0]\n",
    "    df['y'] = z[:, 1]\n",
    "    \n",
    "    # Get type of samples\n",
    "    types = []\n",
    "    for sample in samples:\n",
    "        if sample.startswith('GTEX'):\n",
    "            types.append('GTEX')\n",
    "        elif sample.endswith('01'):\n",
    "            types.append('TCGA-Tumor')\n",
    "        elif sample.endswith('11'):\n",
    "            types.append('TCGA-Normal')\n",
    "    df['type'] = types\n",
    "    \n",
    "    # Specify tooltip\n",
    "    tooltips=[\n",
    "    ('Tissue', '@tissue'),\n",
    "    ('Type', '@type'),\n",
    "    ('Sample', '@sample'),\n",
    "    ]\n",
    "    \n",
    "    # Plot\n",
    "    p = Scatter(df, x='x', y='y', title=\"t-SNE of: \" + title,\n",
    "            xlabel=\"1\", ylabel=\"2\",\n",
    "            color='type',\n",
    "            tooltips=tooltips,\n",
    "            legend=True,\n",
    "            plot_width=400, plot_height=400,\n",
    "            palette=Accent[3],\n",
    "            active_drag=\"pan\",\n",
    "            active_scroll=\"wheel_zoom\",\n",
    "            responsive=True)\n",
    "\n",
    "    js, tag = autoload_static(p, CDN, \"js/bokeh/expression-PC-{}.js\".format(title))\n",
    "    with open(\"expression-PC-{}.js\".format(title), 'w') as f:\n",
    "        f.write(js)\n",
    "    with open(\"tags\".format(title), 'a') as f:\n",
    "        f.write(tag)"
   ]
  },
  {
   "cell_type": "code",
   "execution_count": 25,
   "metadata": {
    "collapsed": false
   },
   "outputs": [],
   "source": [
    "for tissue in log_progress(tissues):\n",
    "    df = pd.read_csv(os.path.join(exp_dir, tissue, tsv), sep='\\t', index_col=0)\n",
    "    process_and_plot_tissue(df, title=tissue)"
   ]
  },
  {
   "cell_type": "markdown",
   "metadata": {},
   "source": [
    "# Clustering with ComBat\n",
    "\n",
    "Nonparametric\n",
    "Tissue as a covariate\n",
    "Monte-Carlo fix\n"
   ]
  },
  {
   "cell_type": "code",
   "execution_count": 87,
   "metadata": {
    "collapsed": true
   },
   "outputs": [],
   "source": [
    "exp_dir = '../../data/expression-CBNT-PC/'\n",
    "tissues = sorted(os.listdir(exp_dir))\n",
    "tsv = 'expression-CBNT-PC.tsv'"
   ]
  },
  {
   "cell_type": "code",
   "execution_count": 86,
   "metadata": {
    "collapsed": true
   },
   "outputs": [],
   "source": [
    "for tissue in log_progress(tissues):\n",
    "    df = pd.read_csv(os.path.join(exp_dir, tissue, tsv), sep='\\t', index_col=0)\n",
    "    process_and_plot_tissue(df, title=tissue + \"-combat\")"
   ]
  },
  {
   "cell_type": "markdown",
   "metadata": {
    "collapsed": true
   },
   "source": [
    "## Entire Dataset with ComBat"
   ]
  },
  {
   "cell_type": "code",
   "execution_count": 88,
   "metadata": {
    "collapsed": false
   },
   "outputs": [
    {
     "name": "stdout",
     "output_type": "stream",
     "text": [
      "Running TruncatedSVD\n",
      "[t-SNE] Computing pairwise distances...\n",
      "[t-SNE] Computing 151 nearest neighbors...\n",
      "[t-SNE] Computed conditional probabilities for sample 1000 / 10864\n",
      "[t-SNE] Computed conditional probabilities for sample 2000 / 10864\n",
      "[t-SNE] Computed conditional probabilities for sample 3000 / 10864\n",
      "[t-SNE] Computed conditional probabilities for sample 4000 / 10864\n",
      "[t-SNE] Computed conditional probabilities for sample 5000 / 10864\n",
      "[t-SNE] Computed conditional probabilities for sample 6000 / 10864\n",
      "[t-SNE] Computed conditional probabilities for sample 7000 / 10864\n",
      "[t-SNE] Computed conditional probabilities for sample 8000 / 10864\n",
      "[t-SNE] Computed conditional probabilities for sample 9000 / 10864\n",
      "[t-SNE] Computed conditional probabilities for sample 10000 / 10864\n",
      "[t-SNE] Computed conditional probabilities for sample 10864 / 10864\n",
      "[t-SNE] Mean sigma: 26.242107\n",
      "[t-SNE] Iteration 25: error = 1.1507380, gradient norm = 0.0006062\n",
      "[t-SNE] Iteration 25: gradient norm 0.000606. Finished.\n",
      "[t-SNE] Iteration 50: error = 1.1042320, gradient norm = 0.0038537\n",
      "[t-SNE] Iteration 75: error = 1.0809040, gradient norm = 0.0029536\n",
      "[t-SNE] Iteration 100: error = 1.0755210, gradient norm = 0.0027927\n",
      "[t-SNE] KL divergence after 100 iterations with early exaggeration: 1.075521\n",
      "[t-SNE] Iteration 125: error = 1.0371211, gradient norm = 0.0019646\n",
      "[t-SNE] Iteration 150: error = 1.0241305, gradient norm = 0.0017722\n",
      "[t-SNE] Iteration 175: error = 1.0208333, gradient norm = 0.0017304\n",
      "[t-SNE] Iteration 200: error = 1.0199354, gradient norm = 0.0017198\n",
      "[t-SNE] Iteration 225: error = 1.0196791, gradient norm = 0.0017181\n",
      "[t-SNE] Iteration 250: error = 1.0196122, gradient norm = 0.0017162\n",
      "[t-SNE] Iteration 275: error = 1.0195941, gradient norm = 0.0017160\n",
      "[t-SNE] Iteration 300: error = 1.0195887, gradient norm = 0.0017159\n",
      "[t-SNE] Iteration 300: error difference 0.000000. Finished.\n",
      "[t-SNE] Error after 300 iterations: 1.075521\n"
     ]
    }
   ],
   "source": [
    "exp_df = pd.concat([pd.read_csv(os.path.join(exp_dir, t, tsv), sep='\\t', index_col=0) for t in tissues], axis=1)\n",
    "exp_df = exp_df.T.groupby(level=0).first().T\n",
    "samples = [x for x in exp_df.columns if x.startswith('GTEX') or (x.endswith('01') or x.endswith('11'))]\n",
    "exp_df = exp_df[samples]\n",
    "exp_df = exp_df.T\n",
    "exp_df = exp_df.apply(lambda x: np.log2(x + 1))\n",
    "print 'Running TruncatedSVD'\n",
    "y = TruncatedSVD(n_components=50, random_state=0).fit_transform(np.array(exp_df))\n",
    "model = TSNE(n_components=2, random_state=1, perplexity=50, learning_rate=1000, verbose=2)\n",
    "z = model.fit_transform(np.array(y))\n",
    "\n",
    "tissue_map = pickle.load(open('../../data/tissue_map.pickle', 'rb'))\n",
    "df = pd.DataFrame()\n",
    "df['sample'] = samples\n",
    "df['tissue'] = [tissue_map[x].capitalize() for x in samples]\n",
    "df['x'] = z[:, 0]\n",
    "df['y'] = z[:, 1]\n",
    "\n",
    "types = []\n",
    "for sample in samples:\n",
    "    if sample.startswith('GTEX'):\n",
    "        types.append('GTEX')\n",
    "    elif sample.endswith('01'):\n",
    "        types.append('TCGA-Tumor')\n",
    "    elif sample.endswith('11'):\n",
    "        types.append('TCGA-Normal')\n",
    "df['type'] = types\n",
    "\n",
    "tooltips=[\n",
    "    ('Tissue', '@tissue'),\n",
    "    ('Type', '@type'),\n",
    "    ('Sample', '@sample'),\n",
    "]\n",
    "\n",
    "p = Scatter(df, x='x', y='y', title=\"t-SNE of GTEx and TCGA RNA-seq Expression\",\n",
    "            xlabel=\"1\", ylabel=\"2\",\n",
    "            color='tissue',\n",
    "            tooltips=tooltips,\n",
    "            legend=True,\n",
    "            plot_width=1024, plot_height=1024,\n",
    "            palette=Category20c[20])\n",
    "\n",
    "output_file(\"expression-PC-combat.html\")\n",
    "js, tag = autoload_static(p, CDN, \"js/bokeh/expression-PC.js\")\n",
    "with open(\"expression-PC-combat.js\", 'w') as f:\n",
    "    f.write(js)\n",
    "with open(\"expression-PC-combat.tag\", 'a') as f:\n",
    "    f.write(tag)\n",
    "show(p)"
   ]
  },
  {
   "cell_type": "markdown",
   "metadata": {
    "collapsed": true
   },
   "source": [
    "# Sample Counts for Datasets"
   ]
  },
  {
   "cell_type": "code",
   "execution_count": 2,
   "metadata": {
    "collapsed": false
   },
   "outputs": [],
   "source": [
    "tissues = ['adrenal', 'bladder', 'breast', 'cervix', 'colon', 'esophagus', 'kidney', \n",
    "           'liver', 'lung_adenocarcinoma', 'lung_mesothelioma', 'lung_squamous', 'ovary', \n",
    "           'pancreas', 'prostate', 'skin', 'head_and_neck', 'stomach', 'testis', \n",
    "           'thyroid', 'uterus_carcinosarcoma', 'uterus_endometrioid']\n",
    "tcga_t = ['77', '407', '1092', '303', '287', '181', '530', '369', '513', '87', '498', \n",
    "          '420', '178', '494', '102', '1040', '413', '148', '504', '57', '180']\n",
    "tcga_n = ['0', '19', '113', '3', '41', '13', '72', '50', '59', '0', '50', '0', '4', \n",
    "          '51', '1', '88', '36', '0', '59', '0', '23']\n",
    "gtex = ['125', '9', '178', '10', '140', '379', '27', '110', '287', '287', '287', '88', \n",
    "        '165', '100', '556', '556', '173', '165', '278', '78', '78']\n",
    "\n",
    "tc = pd.DataFrame()\n",
    "tc['counts'] = [int(x) for x in gtex + tcga_t + tcga_n]\n",
    "tc['dataset'] = ['gtex' for _ in xrange(len(gtex))] + \\\n",
    "                ['tumor' for _ in xrange(len(tcga_t))] + \\\n",
    "                ['normal' for _ in xrange(len(tcga_n))]\n",
    "tc['tissue'] = tissues * 3"
   ]
  },
  {
   "cell_type": "code",
   "execution_count": 3,
   "metadata": {
    "collapsed": false,
    "scrolled": false
   },
   "outputs": [],
   "source": [
    "tooltips=[\n",
    "    ('# Samples', '@height'),\n",
    "]\n",
    "b = Bar(tc, label='tissue', values='counts', group='dataset',\n",
    "       plot_width=1024, plot_height=512, tooltips=tooltips,\n",
    "       title='Number of Samples per Tissue Across Datasets',\n",
    "       responsive=True)\n",
    "\n",
    "b.title.align = 'center'\n",
    "\n",
    "output_file(\"tissue-count.html\")\n",
    "show(b)\n",
    "\n",
    "js, tag = autoload_static(b, CDN, \"js/bokeh/tissue-counts.js\")\n",
    "with open(\"tissue-counts.js\", 'w') as f:\n",
    "    f.write(js)\n",
    "with open(\"tissue-counts.tag\", 'a') as f:    f.write(tag)"
   ]
  },
  {
   "cell_type": "markdown",
   "metadata": {
    "collapsed": true
   },
   "source": [
    "# Quantile Normalization pre-Reduction\n",
    "Let's skip log normalization and use a dataset that's been quantile-normalized to see how it affects clustering.\n"
   ]
  },
  {
   "cell_type": "code",
   "execution_count": 4,
   "metadata": {
    "collapsed": false
   },
   "outputs": [],
   "source": [
    "exp_df = pd.read_csv('../../data/expression-PC-QN/expression-PC-QN.tsv', index_col=0, sep='\\t')"
   ]
  },
  {
   "cell_type": "code",
   "execution_count": 11,
   "metadata": {
    "collapsed": false
   },
   "outputs": [
    {
     "data": {
      "text/plain": [
       "(19797, 10864)"
      ]
     },
     "execution_count": 11,
     "metadata": {},
     "output_type": "execute_result"
    }
   ],
   "source": [
    "exp_df.shape"
   ]
  },
  {
   "cell_type": "markdown",
   "metadata": {},
   "source": [
    "Transpose so genes are the columns (features)"
   ]
  },
  {
   "cell_type": "code",
   "execution_count": 12,
   "metadata": {
    "collapsed": true
   },
   "outputs": [],
   "source": [
    "exp_df = exp_df.T"
   ]
  },
  {
   "cell_type": "code",
   "execution_count": 13,
   "metadata": {
    "collapsed": true
   },
   "outputs": [],
   "source": [
    "y = TruncatedSVD(n_components=50, random_state=0).fit_transform(np.array(exp_df))"
   ]
  },
  {
   "cell_type": "code",
   "execution_count": 14,
   "metadata": {
    "collapsed": false
   },
   "outputs": [
    {
     "name": "stdout",
     "output_type": "stream",
     "text": [
      "[t-SNE] Computing pairwise distances...\n",
      "[t-SNE] Computing 151 nearest neighbors...\n",
      "[t-SNE] Computed conditional probabilities for sample 1000 / 10864\n",
      "[t-SNE] Computed conditional probabilities for sample 2000 / 10864\n",
      "[t-SNE] Computed conditional probabilities for sample 3000 / 10864\n",
      "[t-SNE] Computed conditional probabilities for sample 4000 / 10864\n",
      "[t-SNE] Computed conditional probabilities for sample 5000 / 10864\n",
      "[t-SNE] Computed conditional probabilities for sample 6000 / 10864\n",
      "[t-SNE] Computed conditional probabilities for sample 7000 / 10864\n",
      "[t-SNE] Computed conditional probabilities for sample 8000 / 10864\n",
      "[t-SNE] Computed conditional probabilities for sample 9000 / 10864\n",
      "[t-SNE] Computed conditional probabilities for sample 10000 / 10864\n",
      "[t-SNE] Computed conditional probabilities for sample 10864 / 10864\n",
      "[t-SNE] Mean sigma: 192041.286228\n",
      "[t-SNE] Iteration 25: error = 1.1545317, gradient norm = 0.0005179\n",
      "[t-SNE] Iteration 25: gradient norm 0.000518. Finished.\n",
      "[t-SNE] Iteration 50: error = 1.1162964, gradient norm = 0.0037797\n",
      "[t-SNE] Iteration 75: error = 1.0956051, gradient norm = 0.0029392\n",
      "[t-SNE] Iteration 100: error = 1.0906739, gradient norm = 0.0027924\n",
      "[t-SNE] KL divergence after 100 iterations with early exaggeration: 1.090674\n",
      "[t-SNE] Iteration 125: error = 1.0539802, gradient norm = 0.0019951\n",
      "[t-SNE] Iteration 150: error = 1.0410277, gradient norm = 0.0018170\n",
      "[t-SNE] Iteration 175: error = 1.0377069, gradient norm = 0.0017782\n",
      "[t-SNE] Iteration 200: error = 1.0367852, gradient norm = 0.0017682\n",
      "[t-SNE] Iteration 225: error = 1.0365444, gradient norm = 0.0017652\n",
      "[t-SNE] Iteration 250: error = 1.0364792, gradient norm = 0.0017644\n",
      "[t-SNE] Iteration 275: error = 1.0364592, gradient norm = 0.0017642\n",
      "[t-SNE] Iteration 300: error = 1.0364534, gradient norm = 0.0017641\n",
      "[t-SNE] Iteration 325: error = 1.0364521, gradient norm = 0.0017641\n",
      "[t-SNE] Iteration 325: error difference 0.000000. Finished.\n",
      "[t-SNE] Error after 325 iterations: 1.090674\n"
     ]
    }
   ],
   "source": [
    "model = TSNE(n_components=2, random_state=1, perplexity=50, learning_rate=1000, verbose=2)\n",
    "z = model.fit_transform(np.array(y))"
   ]
  },
  {
   "cell_type": "code",
   "execution_count": 17,
   "metadata": {
    "collapsed": false
   },
   "outputs": [],
   "source": [
    "samples = exp_df.index"
   ]
  },
  {
   "cell_type": "code",
   "execution_count": 18,
   "metadata": {
    "collapsed": false
   },
   "outputs": [],
   "source": [
    "tissue_map = pickle.load(open('../../data/tissue_map.pickle', 'rb'))\n",
    "df = pd.DataFrame()\n",
    "df['sample'] = samples\n",
    "df['tissue'] = [tissue_map[x].capitalize() for x in samples]\n",
    "df['x'] = z[:, 0]\n",
    "df['y'] = z[:, 1]\n",
    "\n",
    "types = []\n",
    "for sample in samples:\n",
    "    if sample.startswith('GTEX'):\n",
    "        types.append('GTEX')\n",
    "    elif sample.endswith('01'):\n",
    "        types.append('TCGA-Tumor')\n",
    "    elif sample.endswith('11'):\n",
    "        types.append('TCGA-Normal')\n",
    "df['type'] = types"
   ]
  },
  {
   "cell_type": "code",
   "execution_count": 19,
   "metadata": {
    "collapsed": true
   },
   "outputs": [],
   "source": [
    "tooltips=[\n",
    "    ('Tissue', '@tissue'),\n",
    "    ('Type', '@type'),\n",
    "    ('Sample', '@sample'),\n",
    "]\n",
    "\n",
    "p = Scatter(df, x='x', y='y', title=\"t-SNE of GTEx and TCGA RNA-seq Expression\",\n",
    "            xlabel=\"1\", ylabel=\"2\",\n",
    "            color='tissue',\n",
    "            tooltips=tooltips,\n",
    "            legend=True,\n",
    "            plot_width=1024, plot_height=1024,\n",
    "            palette=Category20c[20],\n",
    "            responsive=True)\n",
    "\n",
    "p.title.align = 'center'\n",
    "\n",
    "show(p)\n",
    "\n",
    "js, tag = autoload_static(p, CDN, \"js/bokeh/expression-PC.js\")\n",
    "with open(\"expression-PC-QN.js\", 'w') as f:\n",
    "    f.write(js)\n",
    "with open(\"expression-PC-QN.tag\", 'a') as f:\n",
    "    f.write(tag)"
   ]
  },
  {
   "cell_type": "markdown",
   "metadata": {},
   "source": [
    "Unfortunately, it looks terrible. "
   ]
  },
  {
   "cell_type": "code",
   "execution_count": null,
   "metadata": {
    "collapsed": true
   },
   "outputs": [],
   "source": []
  },
  {
   "cell_type": "markdown",
   "metadata": {},
   "source": [
    "# Old\n",
    "I initially looked at size factor rescaling to improve plots but tweaking t-SNE and combining with TruncatedSVD over PCA for initial component reduction worked better."
   ]
  },
  {
   "cell_type": "markdown",
   "metadata": {},
   "source": [
    "### Size Factor Rescaling\n",
    "\n",
    "Size factors are calculated to render counts from different samples, which may have been sequenced to different depths, comparable. \n",
    "\n",
    "j...m = Samples <br>\n",
    "i...n = Genes <br>\n",
    "k = counts\n",
    "\n",
    "One size factor is calculated per sample\n",
    "\n",
    "$$\\hat{s}_j = \\mbox{median_i} \\frac{k_{ij}}{\\Big( \\Pi^m_{v=1}k_{iv} \\Big)^{1/m}}$$\n",
    "\n",
    "We can then produce what the DESeq2 authors call \"variance stabalized normalized counts\" by computing:\n",
    "$\\mbox{log2}\\big(\\frac{\\mbox{count}}{\\mbox{size_factor}}\\big)$ for all counts in the matrix"
   ]
  },
  {
   "cell_type": "code",
   "execution_count": 3,
   "metadata": {
    "collapsed": false,
    "scrolled": true
   },
   "outputs": [],
   "source": [
    "def size_factor_scale(df):\n",
    "    # Calculate denominator\n",
    "    # The geometric mean for all genes across all samples\n",
    "    # We'll pad the counts with a +1 so the geometric mean is never 0\n",
    "    df = df.apply(lambda x: x + 1)\n",
    "    denom = gmean(df, axis=1)  # Length n\n",
    "    temp = df.divide(denom, axis=0)\n",
    "    size_factors = temp.median(axis=0)\n",
    "    return df.divide(size_factors, axis=1).apply(lambda x: np.log2(x))\n",
    "\n",
    "def quantile_normalize(df):\n",
    "    \"\"\"\n",
    "    Quantile normalization is a technique for making two distributions identical in statistical properties.\n",
    "    Assuming genes by samples\n",
    "    from: http://stackoverflow.com/questions/37935920/quantile-normalization-on-pandas-dataframe\n",
    "    \n",
    "    Gene x Sample matrix\n",
    "    \"\"\"\n",
    "    rank_mean = df.stack().groupby(df.rank(method='first').stack().astype(int)).mean()\n",
    "    return df.rank(method='min').stack().astype(int).map(rank_mean).unstack()"
   ]
  }
 ],
 "metadata": {
  "anaconda-cloud": {},
  "kernelspec": {
   "display_name": "Python 2",
   "language": "python",
   "name": "python2"
  },
  "language_info": {
   "codemirror_mode": {
    "name": "ipython",
    "version": 2
   },
   "file_extension": ".py",
   "mimetype": "text/x-python",
   "name": "python",
   "nbconvert_exporter": "python",
   "pygments_lexer": "ipython2",
   "version": "2.7.11"
  }
 },
 "nbformat": 4,
 "nbformat_minor": 0
}
