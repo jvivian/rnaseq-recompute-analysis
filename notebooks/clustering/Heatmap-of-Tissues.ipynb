{
 "cells": [
  {
   "cell_type": "code",
   "execution_count": 81,
   "metadata": {
    "collapsed": false
   },
   "outputs": [],
   "source": [
    "from bokeh.charts import HeatMap, output_file, show\n",
    "from bokeh.resources import CDN\n",
    "from bokeh.embed import file_html, autoload_static\n",
    "import numpy as np\n",
    "import pandas as pd\n",
    "from scipy.spatial.distance import cdist\n",
    "from notebooks import log_progress\n",
    "import pickle\n",
    "from bokeh.plotting import reset_output\n",
    "\n",
    "import os"
   ]
  },
  {
   "cell_type": "markdown",
   "metadata": {},
   "source": [
    "# Heatmap of Tissues\n",
    "\n",
    "- Combine dataframes of tissues\n",
    "- Drop duplicate frames\n",
    "- Quantile Normalize Data (genes by samples)\n",
    "- For each tissue:\n",
    "    - Compute the cdist against every other tissue\n",
    "    - Collapse cdist matrix via np.median\n",
    "    \n",
    "- Create dataframe\n",
    "    - Tissues A (a,a,a...,b,b,b...c,c,c)\n",
    "    - Tissues B (a,b,c....a,b,c...a,b,c)\n",
    "    - Average distance between all points\n",
    "   \n",
    "   \n",
    "### Read in quantile normalized dataset\n",
    "\n",
    "I tried to find a function to quantile normalize our rather large dataset (12,000 x 20,000) on my laptop, but that was a failure so we'll compute it remotely and just read it in. "
   ]
  },
  {
   "cell_type": "code",
   "execution_count": 82,
   "metadata": {
    "collapsed": true
   },
   "outputs": [],
   "source": [
    "df = pd.read_csv('/mnt/rna-seq-analysis/data/xena/deseq2_normalized_tcga_gtex_counts.tsv', sep='\\t', index_col=0)"
   ]
  },
  {
   "cell_type": "markdown",
   "metadata": {},
   "source": [
    "We'll try simple log-normalization to see how significantly QN changed things."
   ]
  },
  {
   "cell_type": "code",
   "execution_count": 83,
   "metadata": {
    "collapsed": false
   },
   "outputs": [],
   "source": [
    "exp_dir = '/mnt/rna-seq-analysis/data/tissue-pairs'\n",
    "tissues = os.listdir(exp_dir)\n",
    "tsv = 'tcga-gtex-exp.tsv'\n",
    "df = pd.concat([pd.read_csv(os.path.join(exp_dir, t, tsv), \n",
    "                             sep='\\t', index_col=0) for t in tissues], axis=1)"
   ]
  },
  {
   "cell_type": "code",
   "execution_count": 84,
   "metadata": {
    "collapsed": true
   },
   "outputs": [],
   "source": [
    "df = df.T.groupby(level=0).first().T"
   ]
  },
  {
   "cell_type": "code",
   "execution_count": 85,
   "metadata": {
    "collapsed": true
   },
   "outputs": [],
   "source": [
    "samples = [x for x in df.columns if x.startswith('GTEX') or (x.endswith('01') or x.endswith('11'))]\n",
    "df = df[samples]"
   ]
  },
  {
   "cell_type": "code",
   "execution_count": 86,
   "metadata": {
    "collapsed": true
   },
   "outputs": [],
   "source": [
    "df = df.apply(lambda x: np.log2(x + 1))"
   ]
  },
  {
   "cell_type": "markdown",
   "metadata": {},
   "source": [
    "For each tissue, get average of every combination of points between another tissue"
   ]
  },
  {
   "cell_type": "code",
   "execution_count": 87,
   "metadata": {
    "collapsed": false
   },
   "outputs": [],
   "source": [
    "tissue_map = pickle.load(open('../../data/tissue_map.pickle', 'rb'))"
   ]
  },
  {
   "cell_type": "markdown",
   "metadata": {},
   "source": [
    "\n",
    "## Relational Heatmap of TCGA Normals to GTEx"
   ]
  },
  {
   "cell_type": "code",
   "execution_count": 110,
   "metadata": {
    "collapsed": false
   },
   "outputs": [],
   "source": [
    "def filter_by_tissue(s, t):\n",
    "    if t == 'normal':\n",
    "        s = [x for x in s if x.endswith('-11')]\n",
    "    elif t == 'tumor':\n",
    "        s = [x for x in s if x.endswith('-01')]\n",
    "    else:\n",
    "        s = [x for x in s if x.startswith('GTEX')]\n",
    "    return s\n",
    "\n",
    "def heatmap_values(df, t1, t2):\n",
    "    tissues = sorted(os.listdir('../../data/expression-PC/'))\n",
    "    tissue_a = []\n",
    "    tissue_b = []\n",
    "    dist = []\n",
    "    for a in log_progress(tissues):\n",
    "        for b in tissues:\n",
    "            # Collect samples for tissues a and b\n",
    "            samples_a = [x for x in df.columns if tissue_map[x] == a]\n",
    "            samples_b = [x for x in df.columns if tissue_map[x] == b]\n",
    "            samples_a = filter_by_tissue(samples_a, t1)\n",
    "            samples_b = filter_by_tissue(samples_b, t2)\n",
    "            if samples_a and samples_b:\n",
    "                df_a = df[samples_a].T  # Samples by Genes for cdist\n",
    "                df_b = df[samples_b].T  # Samples by Genes for cdist\n",
    "                dist.append(np.median(cdist(df_a, df_b)))  # Take median of all combinations of distances between points\n",
    "                tissue_a.append(a)\n",
    "                tissue_b.append(b)\n",
    "    hm = pd.DataFrame()\n",
    "    hm['t1'] = tissue_a\n",
    "    hm['t2'] = tissue_b\n",
    "    x = dist\n",
    "    hm['dist'] = (x-min(x))/(max(x)-min(x))  # Normalize\n",
    "    # Invert distance scores — We want dark spots to indicate strong relationships i.e. small multidimensional distance\n",
    "    hm['dist'] = 1 - hm.dist\n",
    "    return hm"
   ]
  },
  {
   "cell_type": "code",
   "execution_count": 109,
   "metadata": {
    "collapsed": false
   },
   "outputs": [],
   "source": [
    "def plot_heatmap(hm, xlabel, ylabel, title, output_name):\n",
    "    h = HeatMap(hm, x='t1', y='t2', values='dist', stat=None,\n",
    "                xlabel=xlabel, ylabel=ylabel,\n",
    "                legend=False, responsive=False,\n",
    "                title=title,\n",
    "                plot_width=512, plot_height=512)\n",
    "    \n",
    "    h.title.align = 'center'\n",
    "\n",
    "    js, tag = autoload_static(h, CDN, \"js/bokeh-heatmaps/{}\".format(output_name))\n",
    "    with open(output_name, 'w') as f:\n",
    "        f.write(js)\n",
    "    with open(\"tags\", 'a') as f:\n",
    "        f.write(tag)\n",
    "\n",
    "    reset_output()"
   ]
  },
  {
   "cell_type": "code",
   "execution_count": 111,
   "metadata": {
    "collapsed": false
   },
   "outputs": [],
   "source": [
    "hm = heatmap_values(df, 'normal', 'gtex')"
   ]
  },
  {
   "cell_type": "code",
   "execution_count": 112,
   "metadata": {
    "collapsed": true
   },
   "outputs": [],
   "source": [
    "plot_heatmap(hm, xlabel='Normal', ylabel='GTEx', \n",
    "             title='Average Euclidean Distance Protein-Coding', \n",
    "             output_name='hm-pc-normal-gtex.js')"
   ]
  },
  {
   "cell_type": "markdown",
   "metadata": {},
   "source": [
    "## Relational Heapmap of TCGA Tumors to GTEx"
   ]
  },
  {
   "cell_type": "code",
   "execution_count": 113,
   "metadata": {
    "collapsed": false
   },
   "outputs": [],
   "source": [
    "hm = heatmap_values(df, 'tumor', 'gtex')"
   ]
  },
  {
   "cell_type": "code",
   "execution_count": 114,
   "metadata": {
    "collapsed": true
   },
   "outputs": [],
   "source": [
    "plot_heatmap(hm, xlabel='Tumor', ylabel='GTEx', \n",
    "             title='Average Euclidean Distance Protein-coding', \n",
    "             output_name='hm-pc-tumor-gtex.js')"
   ]
  },
  {
   "cell_type": "markdown",
   "metadata": {},
   "source": [
    "## Heatmap of TCGA Normals and Tumors"
   ]
  },
  {
   "cell_type": "code",
   "execution_count": 115,
   "metadata": {
    "collapsed": false
   },
   "outputs": [],
   "source": [
    "hm = heatmap_values(df, 'normal', 'tumor')"
   ]
  },
  {
   "cell_type": "code",
   "execution_count": 116,
   "metadata": {
    "collapsed": true
   },
   "outputs": [],
   "source": [
    "plot_heatmap(hm, xlabel='Normal', ylabel='Tumor', \n",
    "             title='Average Euclidean Distance Protein-coding', \n",
    "             output_name='hm-pc-normal-tumor.js')"
   ]
  },
  {
   "cell_type": "markdown",
   "metadata": {},
   "source": [
    "# Reduced Gene Space\n",
    "\n",
    "Let's examine heatmaps that only contain genes from the UCSF RNA panel"
   ]
  },
  {
   "cell_type": "code",
   "execution_count": 117,
   "metadata": {
    "collapsed": true
   },
   "outputs": [],
   "source": [
    "temp = df.T  # Setting genes to columns"
   ]
  },
  {
   "cell_type": "code",
   "execution_count": 118,
   "metadata": {
    "collapsed": true
   },
   "outputs": [],
   "source": [
    "with open('../../data/UCSF-RNAPanel-Final-412-genes.csv', 'r') as f:\n",
    "    ucsf_genes = [x.strip() for x in f.readlines()]"
   ]
  },
  {
   "cell_type": "code",
   "execution_count": 119,
   "metadata": {
    "collapsed": true
   },
   "outputs": [],
   "source": [
    "gene_map = pickle.load(open('../../data/gene_map.pickle', 'r'))"
   ]
  },
  {
   "cell_type": "code",
   "execution_count": 120,
   "metadata": {
    "collapsed": true
   },
   "outputs": [],
   "source": [
    "genes = [gene_map[x] if x in gene_map else x for x in temp.columns]"
   ]
  },
  {
   "cell_type": "code",
   "execution_count": 121,
   "metadata": {
    "collapsed": true
   },
   "outputs": [],
   "source": [
    "temp.columns = genes"
   ]
  },
  {
   "cell_type": "code",
   "execution_count": 122,
   "metadata": {
    "collapsed": false
   },
   "outputs": [
    {
     "name": "stdout",
     "output_type": "stream",
     "text": [
      "Total reduced gene space: 409\n"
     ]
    }
   ],
   "source": [
    "ucsf_genes = [x for x in ucsf_genes if x in genes]\n",
    "print 'Total reduced gene space: {}'.format(len(ucsf_genes))"
   ]
  },
  {
   "cell_type": "code",
   "execution_count": 123,
   "metadata": {
    "collapsed": true
   },
   "outputs": [],
   "source": [
    "sub = temp[ucsf_genes].T"
   ]
  },
  {
   "cell_type": "markdown",
   "metadata": {},
   "source": [
    "#### Normal vs. GTEx"
   ]
  },
  {
   "cell_type": "code",
   "execution_count": 124,
   "metadata": {
    "collapsed": false
   },
   "outputs": [],
   "source": [
    "hm = heatmap_values(sub, 'normal', 'gtex')"
   ]
  },
  {
   "cell_type": "code",
   "execution_count": 125,
   "metadata": {
    "collapsed": true
   },
   "outputs": [],
   "source": [
    "plot_heatmap(hm, xlabel='Normal', ylabel='GTEx', \n",
    "             title='Average Euclidean Distance UCSF-409 Genes', \n",
    "             output_name='hm-ucsf-normal-gtex.js')"
   ]
  },
  {
   "cell_type": "markdown",
   "metadata": {},
   "source": [
    "#### Tumor vs. GTEx"
   ]
  },
  {
   "cell_type": "code",
   "execution_count": 126,
   "metadata": {
    "collapsed": true
   },
   "outputs": [],
   "source": [
    "hm = heatmap_values(sub, 'tumor', 'gtex')"
   ]
  },
  {
   "cell_type": "code",
   "execution_count": 127,
   "metadata": {
    "collapsed": true
   },
   "outputs": [],
   "source": [
    "plot_heatmap(hm, xlabel='Tumor', ylabel='GTEx', \n",
    "             title='Average Euclidean Distance UCSF-409 Genes', \n",
    "             output_name='hm-ucsf-tumor-gtex.js')"
   ]
  },
  {
   "cell_type": "markdown",
   "metadata": {},
   "source": [
    "#### Tumor vs. Normal"
   ]
  },
  {
   "cell_type": "code",
   "execution_count": 128,
   "metadata": {
    "collapsed": true
   },
   "outputs": [],
   "source": [
    "hm = heatmap_values(sub, 'normal', 'tumor')"
   ]
  },
  {
   "cell_type": "code",
   "execution_count": 129,
   "metadata": {
    "collapsed": true
   },
   "outputs": [],
   "source": [
    "plot_heatmap(hm, xlabel='Normal', ylabel='Tumor', \n",
    "             title='Average Euclidean Distance UCSF-409 Genes', \n",
    "             output_name='hm-ucsf-tumor-normal.js')"
   ]
  },
  {
   "cell_type": "code",
   "execution_count": null,
   "metadata": {
    "collapsed": true
   },
   "outputs": [],
   "source": []
  },
  {
   "cell_type": "code",
   "execution_count": null,
   "metadata": {
    "collapsed": true
   },
   "outputs": [],
   "source": []
  },
  {
   "cell_type": "code",
   "execution_count": null,
   "metadata": {
    "collapsed": true
   },
   "outputs": [],
   "source": []
  },
  {
   "cell_type": "code",
   "execution_count": null,
   "metadata": {
    "collapsed": true
   },
   "outputs": [],
   "source": []
  },
  {
   "cell_type": "code",
   "execution_count": null,
   "metadata": {
    "collapsed": true
   },
   "outputs": [],
   "source": []
  },
  {
   "cell_type": "code",
   "execution_count": null,
   "metadata": {
    "collapsed": true
   },
   "outputs": [],
   "source": []
  },
  {
   "cell_type": "code",
   "execution_count": null,
   "metadata": {
    "collapsed": true
   },
   "outputs": [],
   "source": []
  },
  {
   "cell_type": "code",
   "execution_count": null,
   "metadata": {
    "collapsed": true
   },
   "outputs": [],
   "source": []
  },
  {
   "cell_type": "code",
   "execution_count": null,
   "metadata": {
    "collapsed": true
   },
   "outputs": [],
   "source": []
  },
  {
   "cell_type": "markdown",
   "metadata": {},
   "source": [
    "# ComBat Corrected Dataset"
   ]
  },
  {
   "cell_type": "code",
   "execution_count": null,
   "metadata": {
    "collapsed": true
   },
   "outputs": [],
   "source": [
    "exp_dir = '../../data/expression-CBNT-PC/'\n",
    "tissues = sorted(os.listdir(exp_dir))\n",
    "tsv = 'expression-CBNT-PC.tsv'\n",
    "exp_df = pd.concat([pd.read_csv(os.path.join(exp_dir, t, tsv), sep='\\t', index_col=0) for t in tissues], axis=1)"
   ]
  },
  {
   "cell_type": "code",
   "execution_count": null,
   "metadata": {
    "collapsed": true
   },
   "outputs": [],
   "source": [
    "exp_df = exp_df.T.groupby(level=0).first().T\n",
    "samples = [x for x in exp_df.columns if x.startswith('GTEX') or (x.endswith('01') or x.endswith('11'))]\n",
    "df = exp_df[samples]"
   ]
  },
  {
   "cell_type": "markdown",
   "metadata": {},
   "source": [
    "### Normal vs. GTEx"
   ]
  },
  {
   "cell_type": "code",
   "execution_count": null,
   "metadata": {
    "collapsed": true
   },
   "outputs": [],
   "source": [
    "hm = heatmap_values(df, 'normal', 'gtex')"
   ]
  },
  {
   "cell_type": "code",
   "execution_count": null,
   "metadata": {
    "collapsed": true
   },
   "outputs": [],
   "source": [
    "h = HeatMap(hm, x='t1', y='t2', values='dist', stat=None,\n",
    "            xlabel='TCGA Normal', ylabel='GTEx',\n",
    "            legend=False, responsive=True,\n",
    "            title='Average Euclidean Distance Across all Protein Coding Genes')\n",
    "show(h)\n",
    "\n",
    "js, tag = autoload_static(h, CDN, \"js/bokeh-heatmaps/heatmap-normal-gtex.js\")\n",
    "with open(\"heatmap-normal-gtex-combat.js\", 'w') as f:\n",
    "    f.write(js)\n",
    "with open(\"heatmap-normal-gtex-combat.tag\", 'w') as f:\n",
    "    f.write(tag)"
   ]
  },
  {
   "cell_type": "markdown",
   "metadata": {},
   "source": [
    "### Tumor vs. GTEx"
   ]
  },
  {
   "cell_type": "code",
   "execution_count": null,
   "metadata": {
    "collapsed": true
   },
   "outputs": [],
   "source": [
    "hm = heatmap_values(df, 'tumor', 'gtex')"
   ]
  },
  {
   "cell_type": "code",
   "execution_count": null,
   "metadata": {
    "collapsed": true
   },
   "outputs": [],
   "source": [
    "h = HeatMap(hm, x='t1', y='t2', values='dist', stat=None,\n",
    "            xlabel='TCGA Tumor', ylabel='GTEx',\n",
    "            legend=False, responsive=True,\n",
    "            title='Average Euclidean Distance Across all Protein Coding Genes')\n",
    "show(h)\n",
    "\n",
    "js, tag = autoload_static(h, CDN, \"js/bokeh-heatmaps/heatmap-tumor-gtex.js\")\n",
    "with open(\"heatmap-tumor-gtex-combat.js\", 'w') as f:\n",
    "    f.write(js)\n",
    "with open(\"heatmap-tumor-gtex-combat.tag\", 'w') as f:\n",
    "    f.write(tag)"
   ]
  },
  {
   "cell_type": "markdown",
   "metadata": {},
   "source": [
    "### Normal vs. Tumor"
   ]
  },
  {
   "cell_type": "code",
   "execution_count": null,
   "metadata": {
    "collapsed": true
   },
   "outputs": [],
   "source": [
    "hm = heatmap_values(df, 'normal', 'tumor')"
   ]
  },
  {
   "cell_type": "code",
   "execution_count": null,
   "metadata": {
    "collapsed": true
   },
   "outputs": [],
   "source": [
    "h = HeatMap(hm, x='t1', y='t2', values='dist', stat=None,\n",
    "            xlabel='TCGA Normal', ylabel='GTEx',\n",
    "            legend=False, responsive=True,\n",
    "            title='Average Euclidean Distance Across all Protein Coding Genes')\n",
    "show(h)\n",
    "\n",
    "js, tag = autoload_static(h, CDN, \"js/bokeh-heatmaps/heatmap-normal-gtex.js\")\n",
    "with open(\"heatmap-normal-tumor-combat.js\", 'w') as f:\n",
    "    f.write(js)\n",
    "with open(\"heatmap-normal-tumor-combat.tag\", 'w') as f:\n",
    "    f.write(tag)"
   ]
  }
 ],
 "metadata": {
  "kernelspec": {
   "display_name": "Python 2",
   "language": "python",
   "name": "python2"
  },
  "language_info": {
   "codemirror_mode": {
    "name": "ipython",
    "version": 2
   },
   "file_extension": ".py",
   "mimetype": "text/x-python",
   "name": "python",
   "nbconvert_exporter": "python",
   "pygments_lexer": "ipython2",
   "version": "2.7.11"
  }
 },
 "nbformat": 4,
 "nbformat_minor": 0
}
