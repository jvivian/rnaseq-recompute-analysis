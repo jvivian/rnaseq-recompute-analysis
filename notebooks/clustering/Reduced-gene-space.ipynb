{
 "cells": [
  {
   "cell_type": "code",
   "execution_count": 59,
   "metadata": {
    "collapsed": true
   },
   "outputs": [],
   "source": [
    "%matplotlib inline\n",
    "import bokeh\n",
    "from bokeh.io import output_notebook\n",
    "from bokeh.charts import Scatter, output_file, show, Bar\n",
    "from bokeh.palettes import Accent, Category20c\n",
    "from bokeh.resources import CDN\n",
    "from bokeh.embed import file_html, autoload_static\n",
    "from bokeh.plotting import reset_output\n",
    "\n",
    "import os\n",
    "import sys\n",
    "import matplotlib.pyplot as plt\n",
    "import pandas as pd\n",
    "import numpy as np\n",
    "import seaborn as sns\n",
    "from sklearn.manifold import TSNE\n",
    "from sklearn.decomposition import TruncatedSVD\n",
    "import pickle\n",
    "\n",
    "from notebooks import log_progress\n",
    "\n",
    "sns.set_style('whitegrid')"
   ]
  },
  {
   "cell_type": "markdown",
   "metadata": {},
   "source": [
    "# Clustering in Reduced Gene Space\n",
    "\n",
    "We'll examine our clustering of tissues in a reduced gene space using genes selected from the UCSF-500 (actually 41 genes)"
   ]
  },
  {
   "cell_type": "code",
   "execution_count": 25,
   "metadata": {
    "collapsed": true
   },
   "outputs": [],
   "source": [
    "exp_dir = '../../data/expression-PC/'\n",
    "tissues = os.listdir(exp_dir)\n",
    "tsv = 'combined-gtex-tcga-counts-protein-coding.tsv'\n",
    "df = pd.concat([pd.read_csv(os.path.join(exp_dir, t, tsv), \n",
    "                             sep='\\t', index_col=0) for t in tissues], axis=1)"
   ]
  },
  {
   "cell_type": "code",
   "execution_count": 26,
   "metadata": {
    "collapsed": true
   },
   "outputs": [],
   "source": [
    "df = df.T.groupby(level=0).first().T"
   ]
  },
  {
   "cell_type": "code",
   "execution_count": 27,
   "metadata": {
    "collapsed": false,
    "scrolled": true
   },
   "outputs": [],
   "source": [
    "samples = [x for x in df.columns if x.startswith('GTEX') or (x.endswith('01') or x.endswith('11'))]\n",
    "df = df[samples]"
   ]
  },
  {
   "cell_type": "code",
   "execution_count": 30,
   "metadata": {
    "collapsed": false
   },
   "outputs": [],
   "source": [
    "df = df.T"
   ]
  },
  {
   "cell_type": "code",
   "execution_count": 31,
   "metadata": {
    "collapsed": true
   },
   "outputs": [],
   "source": [
    "df = df.apply(lambda x: np.log2(x + 1))"
   ]
  },
  {
   "cell_type": "markdown",
   "metadata": {},
   "source": [
    "## Subset Gene Space"
   ]
  },
  {
   "cell_type": "markdown",
   "metadata": {},
   "source": [
    "Read in UCSF gene list"
   ]
  },
  {
   "cell_type": "code",
   "execution_count": 34,
   "metadata": {
    "collapsed": true
   },
   "outputs": [],
   "source": [
    "with open('../../data/UCSF-RNAPanel-Final-412-genes.csv', 'r') as f:\n",
    "    ucsf_genes = [x.strip() for x in f.readlines()]"
   ]
  },
  {
   "cell_type": "markdown",
   "metadata": {},
   "source": [
    "Load gene map which associates a gene ID with a gene name"
   ]
  },
  {
   "cell_type": "code",
   "execution_count": 8,
   "metadata": {
    "collapsed": true
   },
   "outputs": [],
   "source": [
    "gene_map = pickle.load(open('../../data/gene_map.pickle', 'r'))"
   ]
  },
  {
   "cell_type": "code",
   "execution_count": 36,
   "metadata": {
    "collapsed": false
   },
   "outputs": [],
   "source": [
    "genes = [gene_map[x] if x in gene_map else x for x in df.columns]"
   ]
  },
  {
   "cell_type": "code",
   "execution_count": 38,
   "metadata": {
    "collapsed": true
   },
   "outputs": [],
   "source": [
    "df.columns = genes"
   ]
  },
  {
   "cell_type": "markdown",
   "metadata": {},
   "source": [
    "Subset ucsf genes if they're in our list"
   ]
  },
  {
   "cell_type": "code",
   "execution_count": 43,
   "metadata": {
    "collapsed": false
   },
   "outputs": [],
   "source": [
    "ucsf_genes = [x for x in ucsf_genes if x in genes]"
   ]
  },
  {
   "cell_type": "code",
   "execution_count": 45,
   "metadata": {
    "collapsed": false
   },
   "outputs": [],
   "source": [
    "sub = df[ucsf_genes]"
   ]
  },
  {
   "cell_type": "markdown",
   "metadata": {},
   "source": [
    "Reduce down to 50 components with TruncatedSVD"
   ]
  },
  {
   "cell_type": "code",
   "execution_count": 53,
   "metadata": {
    "collapsed": true
   },
   "outputs": [],
   "source": [
    "y = TruncatedSVD(n_components=50, random_state=0).fit_transform(np.array(sub))"
   ]
  },
  {
   "cell_type": "code",
   "execution_count": 64,
   "metadata": {
    "collapsed": false
   },
   "outputs": [
    {
     "name": "stdout",
     "output_type": "stream",
     "text": [
      "[t-SNE] Computing pairwise distances...\n",
      "[t-SNE] Computing 151 nearest neighbors...\n",
      "[t-SNE] Computed conditional probabilities for sample 1000 / 10864\n",
      "[t-SNE] Computed conditional probabilities for sample 2000 / 10864\n",
      "[t-SNE] Computed conditional probabilities for sample 3000 / 10864\n",
      "[t-SNE] Computed conditional probabilities for sample 4000 / 10864\n",
      "[t-SNE] Computed conditional probabilities for sample 5000 / 10864\n",
      "[t-SNE] Computed conditional probabilities for sample 6000 / 10864\n",
      "[t-SNE] Computed conditional probabilities for sample 7000 / 10864\n",
      "[t-SNE] Computed conditional probabilities for sample 8000 / 10864\n",
      "[t-SNE] Computed conditional probabilities for sample 9000 / 10864\n",
      "[t-SNE] Computed conditional probabilities for sample 10000 / 10864\n",
      "[t-SNE] Computed conditional probabilities for sample 10864 / 10864\n",
      "[t-SNE] Mean sigma: 6.383180\n",
      "[t-SNE] Iteration 25: error = 1.1559377, gradient norm = 0.0004925\n",
      "[t-SNE] Iteration 25: gradient norm 0.000492. Finished.\n",
      "[t-SNE] Iteration 50: error = 1.1152582, gradient norm = 0.0038624\n",
      "[t-SNE] Iteration 75: error = 1.0941032, gradient norm = 0.0029113\n",
      "[t-SNE] Iteration 100: error = 1.0892752, gradient norm = 0.0027767\n",
      "[t-SNE] KL divergence after 100 iterations with early exaggeration: 1.089275\n",
      "[t-SNE] Iteration 125: error = 1.0547817, gradient norm = 0.0019673\n",
      "[t-SNE] Iteration 150: error = 1.0431819, gradient norm = 0.0017675\n",
      "[t-SNE] Iteration 175: error = 1.0402529, gradient norm = 0.0017180\n",
      "[t-SNE] Iteration 200: error = 1.0394567, gradient norm = 0.0017043\n",
      "[t-SNE] Iteration 225: error = 1.0392480, gradient norm = 0.0017006\n",
      "[t-SNE] Iteration 250: error = 1.0391887, gradient norm = 0.0016996\n",
      "[t-SNE] Iteration 275: error = 1.0391722, gradient norm = 0.0016993\n",
      "[t-SNE] Iteration 300: error = 1.0391675, gradient norm = 0.0016993\n",
      "[t-SNE] Iteration 300: error difference 0.000000. Finished.\n",
      "[t-SNE] Error after 300 iterations: 1.089275\n"
     ]
    }
   ],
   "source": [
    "model = TSNE(n_components=2, random_state=1, perplexity=50, learning_rate=1000, verbose=2)\n",
    "z = model.fit_transform(np.array(y))\n",
    "tissue_map = pickle.load(open('../../data/tissue_map.pickle', 'rb'))\n",
    "pdf = pd.DataFrame()\n",
    "pdf['sample'] = df.index\n",
    "pdf['tissue'] = [tissue_map[x].capitalize() for x in df.index]\n",
    "pdf['x'] = z[:, 0]\n",
    "pdf['y'] = z[:, 1]\n",
    "\n",
    "types = []\n",
    "for sample in samples:\n",
    "    if sample.startswith('GTEX'):\n",
    "        types.append('GTEX')\n",
    "    elif sample.endswith('01'):\n",
    "        types.append('TCGA-Tumor')\n",
    "    elif sample.endswith('11'):\n",
    "        types.append('TCGA-Normal')\n",
    "pdf['type'] = types\n",
    "tooltips=[\n",
    "    ('Tissue', '@tissue'),\n",
    "    ('Type', '@type'),\n",
    "    ('Sample', '@sample'),\n",
    "]"
   ]
  },
  {
   "cell_type": "code",
   "execution_count": 65,
   "metadata": {
    "collapsed": true
   },
   "outputs": [],
   "source": [
    "p = Scatter(pdf, x='x', y='y', title=\"t-SNE of GTEx and TCGA RNA-seq Expression\",\n",
    "            xlabel=\"1\", ylabel=\"2\",\n",
    "            color='type',\n",
    "            tooltips=tooltips,\n",
    "            legend=True,\n",
    "            plot_width=1024, plot_height=1024,\n",
    "            palette=Accent[3],\n",
    "            responsive=True)\n",
    "\n",
    "p.title.align = 'center'\n",
    "\n",
    "output_file('expression-UCSF-type.html')\n",
    "show(p)\n",
    "\n",
    "js, tag = autoload_static(p, CDN, \"js/bokeh/expression-PC.js\")\n",
    "with open(\"expression-UCSF-type.js\", 'w') as f:\n",
    "    f.write(js)\n",
    "with open(\"tags\", 'a') as f:\n",
    "    f.write(tag)\n",
    "\n",
    "reset_output()"
   ]
  },
  {
   "cell_type": "markdown",
   "metadata": {},
   "source": [
    "## All Tissues"
   ]
  },
  {
   "cell_type": "code",
   "execution_count": 71,
   "metadata": {
    "collapsed": true
   },
   "outputs": [],
   "source": [
    "with open('../../data/UCSF-RNAPanel-Final-412-genes.csv', 'r') as f:\n",
    "    ucsf_genes = [x.strip() for x in f.readlines()]\n",
    "\n",
    "def process_and_plot_tissue(df, title):\n",
    "    # Remove duplicate columns\n",
    "    df = df.T.groupby(level=0).first().T\n",
    "    # Subset just tumor / normal\n",
    "    samples = [x for x in df.columns if x.startswith('GTEX') or (x.endswith('01') or x.endswith('11'))]\n",
    "    df = df[samples]\n",
    "    # Subset Genes from UCSF\n",
    "    df = df.T\n",
    "    genes = [gene_map[x] if x in gene_map else x for x in df.columns]\n",
    "    df.columns = genes\n",
    "    sub = df[[x for x in ucsf_genes if x in genes]]\n",
    "    # Log Normalize\n",
    "    sub = sub.apply(lambda x: np.log2(x + 1))\n",
    "    # Reduce to 50 components\n",
    "    y = TruncatedSVD(n_components=50, random_state=0).fit_transform(np.array(sub))\n",
    "    # t-SNE\n",
    "    model = TSNE(n_components=2, random_state=1)\n",
    "    z = model.fit_transform(np.array(y))\n",
    "    \n",
    "    # Create dataframe for plot\n",
    "    tissue_map = pickle.load(open('../../data/tissue_map.pickle', 'rb'))\n",
    "    df = pd.DataFrame()\n",
    "    df['sample'] = samples\n",
    "    df['tissue'] = [tissue_map[x].capitalize() for x in samples]\n",
    "    df['x'] = z[:, 0]\n",
    "    df['y'] = z[:, 1]\n",
    "    \n",
    "    # Get type of samples\n",
    "    types = []\n",
    "    for sample in samples:\n",
    "        if sample.startswith('GTEX'):\n",
    "            types.append('GTEX')\n",
    "        elif sample.endswith('01'):\n",
    "            types.append('TCGA-Tumor')\n",
    "        elif sample.endswith('11'):\n",
    "            types.append('TCGA-Normal')\n",
    "    df['type'] = types\n",
    "    \n",
    "    # Specify tooltip\n",
    "    tooltips=[\n",
    "    ('Tissue', '@tissue'),\n",
    "    ('Type', '@type'),\n",
    "    ('Sample', '@sample'),\n",
    "    ]\n",
    "    \n",
    "    # Plot\n",
    "    p = Scatter(df, x='x', y='y', title=\"t-SNE of: \" + title,\n",
    "            xlabel=\"1\", ylabel=\"2\",\n",
    "            color='type',\n",
    "            tooltips=tooltips,\n",
    "            legend=True,\n",
    "            plot_width=400, plot_height=400,\n",
    "            palette=Accent[3],\n",
    "            active_drag=\"pan\",\n",
    "            active_scroll=\"wheel_zoom\",\n",
    "            responsive=True)\n",
    "\n",
    "    js, tag = autoload_static(p, CDN, \"js/bokeh/expression-UCSF-{}.js\".format(title))\n",
    "    with open(\"expression-UCSF-{}.js\".format(title), 'w') as f:\n",
    "        f.write(js)\n",
    "    with open(\"tags\".format(title), 'a') as f:\n",
    "        f.write(tag)"
   ]
  },
  {
   "cell_type": "code",
   "execution_count": 72,
   "metadata": {
    "collapsed": false
   },
   "outputs": [],
   "source": [
    "for tissue in log_progress(tissues):\n",
    "    df = pd.read_csv(os.path.join(exp_dir, tissue, tsv), sep='\\t', index_col=0)\n",
    "    process_and_plot_tissue(df, title=tissue)"
   ]
  }
 ],
 "metadata": {
  "kernelspec": {
   "display_name": "Python 2",
   "language": "python",
   "name": "python2"
  },
  "language_info": {
   "codemirror_mode": {
    "name": "ipython",
    "version": 2
   },
   "file_extension": ".py",
   "mimetype": "text/x-python",
   "name": "python",
   "nbconvert_exporter": "python",
   "pygments_lexer": "ipython2",
   "version": "2.7.11"
  }
 },
 "nbformat": 4,
 "nbformat_minor": 0
}
