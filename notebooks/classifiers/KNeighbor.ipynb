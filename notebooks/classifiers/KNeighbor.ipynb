{
 "cells": [
  {
   "cell_type": "code",
   "execution_count": 1,
   "metadata": {
    "collapsed": true
   },
   "outputs": [],
   "source": [
    "%matplotlib inline\n",
    "from IPython.display import display\n",
    "import seaborn as sns\n",
    "import matplotlib.pyplot as plt\n",
    "import numpy as np\n",
    "import pandas as pd\n",
    "pd.set_option(\"display.max_columns\", 5)\n",
    "\n",
    "from sklearn.svm import LinearSVC\n",
    "from sklearn.model_selection import train_test_split\n",
    "from sklearn.model_selection import cross_val_score\n",
    "from sklearn.preprocessing import scale\n",
    "from sklearn.feature_selection import SelectFromModel\n",
    "\n",
    "import os\n",
    "import pickle"
   ]
  },
  {
   "cell_type": "code",
   "execution_count": 2,
   "metadata": {
    "collapsed": true
   },
   "outputs": [],
   "source": [
    "exp_dir = '/mnt/rna-seq-analysis/rna-seq-analysis/data/tissue-pairs'\n",
    "tissues = os.listdir(exp_dir)\n",
    "tsv = 'combined-gtex-tcga-counts-protein-coding.tsv'\n",
    "exp_df = pd.concat([pd.read_csv(os.path.join(exp_dir, t, tsv), sep='\\t', index_col=0) for t in tissues], axis=1)\n",
    "# Remove dupes\n",
    "exp_df = exp_df.T.groupby(level=0).first().T\n",
    "# Subset by normal / tumor samples\n",
    "samples = [x for x in exp_df.columns if x.startswith('GTEX') or (x.endswith('01') or x.endswith('11'))]\n",
    "exp_df = exp_df[samples]\n",
    "# Transpose so genes (features) are columns\n",
    "exp_df = exp_df.T\n",
    "\n",
    "# Get Y\n",
    "tissue_map = pickle.load(open('../../data/tissue_map.pickle', 'rb'))\n",
    "y = np.array([tissue_map[x] for x in exp_df.index])\n",
    "\n",
    "# UCSF Subset\n",
    "with open('/mnt/rna-seq-analysis/rna-seq-analysis/metadata/UCSF-RNAPanel-Final-412-genes.csv', 'r') as f:\n",
    "    ucsf_genes = [x.strip() for x in f.readlines()]\n",
    "\n",
    "gene_map = pickle.load(open('../../data/gene_map.pickle', 'r'))\n",
    "genes = [gene_map[x] if x in gene_map else x for x in exp_df.columns]\n",
    "exp_df.columns = genes\n",
    "ucsf_genes = [x for x in ucsf_genes if x in genes]\n",
    "ucsf_df = exp_df[ucsf_genes]\n",
    "\n",
    "def test_clf(clf, X, y):\n",
    "    # Raw\n",
    "    raw_scores = cross_val_score(clf, X, y, n_jobs=-1)\n",
    "    print 'Raw', np.mean(raw_scores), np.std(raw_scores)\n",
    "    # Log scale\n",
    "    ln_X = X.apply(lambda x: np.log2(x + 1))\n",
    "    log_scores = cross_val_score(clf, ln_X, y, n_jobs=-1)\n",
    "    print 'log2', np.mean(log_scores), np.std(log_scores)\n",
    "    # Feature Scaling\n",
    "    scale_X = scale(X)\n",
    "    scale_scores = cross_val_score(clf, scale_X, y, n_jobs=-1)\n",
    "    print 'scale', np.mean(scale_scores), np.std(scale_scores)\n",
    "    return raw_scores, log_scores, scale_scores"
   ]
  },
  {
   "cell_type": "code",
   "execution_count": 3,
   "metadata": {
    "collapsed": true
   },
   "outputs": [],
   "source": [
    "from sklearn.neighbors import KNeighborsClassifier"
   ]
  },
  {
   "cell_type": "code",
   "execution_count": 4,
   "metadata": {
    "collapsed": true
   },
   "outputs": [],
   "source": [
    "clf = KNeighborsClassifier()"
   ]
  },
  {
   "cell_type": "code",
   "execution_count": 5,
   "metadata": {
    "collapsed": false
   },
   "outputs": [
    {
     "name": "stdout",
     "output_type": "stream",
     "text": [
      "Raw 0.719224629171 0.067722356217\n",
      "log2 0.87137831082 0.0553835576314\n",
      "scale 0.773951486398 0.0933382433949\n"
     ]
    }
   ],
   "source": [
    "raw, ln, scal = test_clf(clf, exp_df, y)"
   ]
  },
  {
   "cell_type": "code",
   "execution_count": 6,
   "metadata": {
    "collapsed": false
   },
   "outputs": [
    {
     "name": "stdout",
     "output_type": "stream",
     "text": [
      "Raw 0.629278815942 0.062727746354\n",
      "log2 0.882490019985 0.0408082576634\n",
      "scale 0.78384979218 0.0643725431969\n"
     ]
    }
   ],
   "source": [
    "raw_ucsf, ln_ucsf, scale_ucsf = test_clf(clf, ucsf_df, y)"
   ]
  },
  {
   "cell_type": "code",
   "execution_count": null,
   "metadata": {
    "collapsed": true
   },
   "outputs": [],
   "source": []
  }
 ],
 "metadata": {
  "anaconda-cloud": {},
  "kernelspec": {
   "display_name": "Python [conda root]",
   "language": "python",
   "name": "conda-root-py"
  },
  "language_info": {
   "codemirror_mode": {
    "name": "ipython",
    "version": 2
   },
   "file_extension": ".py",
   "mimetype": "text/x-python",
   "name": "python",
   "nbconvert_exporter": "python",
   "pygments_lexer": "ipython2",
   "version": "2.7.12"
  }
 },
 "nbformat": 4,
 "nbformat_minor": 1
}
