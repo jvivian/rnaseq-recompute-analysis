{
 "cells": [
  {
   "cell_type": "code",
   "execution_count": 23,
   "metadata": {
    "collapsed": true
   },
   "outputs": [],
   "source": [
    "%matplotlib inline\n",
    "from IPython.display import display\n",
    "import seaborn as sns\n",
    "import matplotlib.pyplot as plt\n",
    "import numpy as np\n",
    "import pandas as pd\n",
    "pd.set_option(\"display.max_columns\", 5)\n",
    "\n",
    "from sklearn.svm import LinearSVC\n",
    "from sklearn.model_selection import train_test_split\n",
    "from sklearn.model_selection import cross_val_score\n",
    "from sklearn.preprocessing import scale\n",
    "from sklearn.feature_selection import SelectFromModel\n",
    "from sklearn.pipeline import Pipeline\n",
    "\n",
    "import os\n",
    "import pickle"
   ]
  },
  {
   "cell_type": "code",
   "execution_count": 18,
   "metadata": {
    "collapsed": true
   },
   "outputs": [],
   "source": [
    "exp_dir = '/mnt/rna-seq-analysis/rna-seq-analysis/data/tissue-pairs'\n",
    "tissues = os.listdir(exp_dir)\n",
    "tsv = 'combined-gtex-tcga-counts-protein-coding.tsv'\n",
    "exp_df = pd.concat([pd.read_csv(os.path.join(exp_dir, t, tsv), sep='\\t', index_col=0) for t in tissues], axis=1)\n",
    "# Remove dupes\n",
    "exp_df = exp_df.T.groupby(level=0).first().T\n",
    "# Subset by normal / tumor samples\n",
    "samples = [x for x in exp_df.columns if x.startswith('GTEX') or (x.endswith('01') or x.endswith('11'))]\n",
    "exp_df = exp_df[samples]\n",
    "# Transpose so genes (features) are columns\n",
    "exp_df = exp_df.T\n",
    "\n",
    "# Get Y\n",
    "tissue_map = pickle.load(open('../../data/tissue_map.pickle', 'rb'))\n",
    "y = np.array([tissue_map[x] for x in exp_df.index])\n",
    "\n",
    "# UCSF Subset\n",
    "with open('/mnt/rna-seq-analysis/rna-seq-analysis/metadata/UCSF-RNAPanel-Final-412-genes.csv', 'r') as f:\n",
    "    ucsf_genes = [x.strip() for x in f.readlines()]\n",
    "\n",
    "gene_map = pickle.load(open('../../data/gene_map.pickle', 'r'))\n",
    "genes = [gene_map[x] if x in gene_map else x for x in exp_df.columns]\n",
    "exp_df.columns = genes\n",
    "ucsf_genes = [x for x in ucsf_genes if x in genes]\n",
    "ucsf_df = exp_df[ucsf_genes]\n",
    "\n",
    "def test_clf(clf, X, y):\n",
    "    # Raw\n",
    "    raw_scores = cross_val_score(clf, X, y, n_jobs=-1)\n",
    "    print 'Raw', np.mean(raw_scores), np.std(raw_scores)\n",
    "    # Log scale\n",
    "    ln_X = X.apply(lambda x: np.log2(x + 1))\n",
    "    log_scores = cross_val_score(clf, ln_X, y, n_jobs=-1)\n",
    "    print 'log2', np.mean(log_scores), np.std(log_scores)\n",
    "    # Feature Scaling\n",
    "    scale_X = scale(X)\n",
    "    scale_scores = cross_val_score(clf, scale_X, y, n_jobs=-1)\n",
    "    print 'scale', np.mean(scale_scores), np.std(scale_scores)\n",
    "    return raw_scores, log_scores, scale_scores"
   ]
  },
  {
   "cell_type": "code",
   "execution_count": 19,
   "metadata": {
    "collapsed": true
   },
   "outputs": [],
   "source": [
    "from sklearn.linear_model import SGDClassifier"
   ]
  },
  {
   "cell_type": "code",
   "execution_count": 20,
   "metadata": {
    "collapsed": true
   },
   "outputs": [],
   "source": [
    "clf = SGDClassifier(loss=\"hinge\", penalty=\"l2\")"
   ]
  },
  {
   "cell_type": "code",
   "execution_count": 21,
   "metadata": {
    "collapsed": false
   },
   "outputs": [
    {
     "name": "stdout",
     "output_type": "stream",
     "text": [
      "Raw 0.794983802024 0.0605639907105\n",
      "log2 0.831320329812 0.0632056122518\n",
      "scale 0.870463301741 0.0644092770492\n"
     ]
    }
   ],
   "source": [
    "raw, ln, sca = test_clf(clf, exp_df, y)"
   ]
  },
  {
   "cell_type": "code",
   "execution_count": 22,
   "metadata": {
    "collapsed": false
   },
   "outputs": [
    {
     "name": "stdout",
     "output_type": "stream",
     "text": [
      "Raw 0.669619079012 0.042804635202\n",
      "log2 0.811544414175 0.0359492988998\n",
      "scale 0.854815134315 0.0629421208063\n"
     ]
    }
   ],
   "source": [
    "raw_ucsf, ln_ucsf, scale_ucsf = test_clf(clf, ucsf_df, y)"
   ]
  },
  {
   "cell_type": "markdown",
   "metadata": {},
   "source": [
    "## Pipeline with Feature Selection"
   ]
  },
  {
   "cell_type": "code",
   "execution_count": 25,
   "metadata": {
    "collapsed": true
   },
   "outputs": [],
   "source": [
    "clf = Pipeline([\n",
    "  ('feature_selection', SelectFromModel(LinearSVC())),\n",
    "  ('classification', SGDClassifier(loss='hinge', penalty='l2'))\n",
    "])"
   ]
  },
  {
   "cell_type": "code",
   "execution_count": null,
   "metadata": {
    "collapsed": true
   },
   "outputs": [],
   "source": [
    "p_score = cross_val_score(clf, scale(exp_df), y, n_jobs=-1)"
   ]
  },
  {
   "cell_type": "code",
   "execution_count": 30,
   "metadata": {
    "collapsed": false
   },
   "outputs": [
    {
     "name": "stdout",
     "output_type": "stream",
     "text": [
      "0.876627316106 0.0592648140207\n"
     ]
    }
   ],
   "source": [
    "print np.mean(p_score), np.std(p_score)"
   ]
  },
  {
   "cell_type": "code",
   "execution_count": null,
   "metadata": {
    "collapsed": true
   },
   "outputs": [],
   "source": []
  }
 ],
 "metadata": {
  "anaconda-cloud": {},
  "kernelspec": {
   "display_name": "Python [conda root]",
   "language": "python",
   "name": "conda-root-py"
  },
  "language_info": {
   "codemirror_mode": {
    "name": "ipython",
    "version": 2
   },
   "file_extension": ".py",
   "mimetype": "text/x-python",
   "name": "python",
   "nbconvert_exporter": "python",
   "pygments_lexer": "ipython2",
   "version": "2.7.12"
  }
 },
 "nbformat": 4,
 "nbformat_minor": 1
}
