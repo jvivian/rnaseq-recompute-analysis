{
 "cells": [
  {
   "cell_type": "markdown",
   "metadata": {},
   "source": [
    "# Random Forests"
   ]
  },
  {
   "cell_type": "code",
   "execution_count": 1,
   "metadata": {
    "collapsed": true
   },
   "outputs": [],
   "source": [
    "%matplotlib inline\n",
    "from IPython.display import display\n",
    "import seaborn as sns\n",
    "import matplotlib.pyplot as plt\n",
    "import numpy as np\n",
    "import pandas as pd\n",
    "pd.set_option(\"display.max_columns\", 5)\n",
    "\n",
    "from sklearn.svm import LinearSVC\n",
    "from sklearn.model_selection import train_test_split\n",
    "from sklearn.model_selection import cross_val_score\n",
    "from sklearn.preprocessing import scale\n",
    "from sklearn.feature_selection import SelectFromModel\n",
    "\n",
    "import os\n",
    "import pickle"
   ]
  },
  {
   "cell_type": "code",
   "execution_count": 2,
   "metadata": {
    "collapsed": true
   },
   "outputs": [],
   "source": [
    "exp_dir = '/mnt/rna-seq-analysis/rna-seq-analysis/data/tissue-pairs'\n",
    "tissues = os.listdir(exp_dir)\n",
    "tsv = 'combined-gtex-tcga-counts-protein-coding.tsv'\n",
    "exp_df = pd.concat([pd.read_csv(os.path.join(exp_dir, t, tsv), sep='\\t', index_col=0) for t in tissues], axis=1)\n",
    "# Remove dupes\n",
    "exp_df = exp_df.T.groupby(level=0).first().T\n",
    "# Subset by normal / tumor samples\n",
    "samples = [x for x in exp_df.columns if x.startswith('GTEX') or (x.endswith('01') or x.endswith('11'))]\n",
    "exp_df = exp_df[samples]\n",
    "# Transpose so genes (features) are columns\n",
    "exp_df = exp_df.T\n",
    "\n",
    "# Get Y\n",
    "tissue_map = pickle.load(open('../../data/tissue_map.pickle', 'rb'))\n",
    "y = np.array([tissue_map[x] for x in exp_df.index])\n",
    "\n",
    "# UCSF Subset\n",
    "with open('/mnt/rna-seq-analysis/rna-seq-analysis/metadata/UCSF-RNAPanel-Final-412-genes.csv', 'r') as f:\n",
    "    ucsf_genes = [x.strip() for x in f.readlines()]\n",
    "\n",
    "gene_map = pickle.load(open('../../data/gene_map.pickle', 'r'))\n",
    "genes = [gene_map[x] if x in gene_map else x for x in exp_df.columns]\n",
    "exp_df.columns = genes\n",
    "ucsf_genes = [x for x in ucsf_genes if x in genes]\n",
    "ucsf_df = exp_df[ucsf_genes]\n",
    "\n",
    "def test_clf(clf, X, y):\n",
    "    # Raw\n",
    "    raw_scores = cross_val_score(clf, X, y, n_jobs=-1)\n",
    "    print 'Raw', np.mean(raw_scores), np.std(raw_scores)\n",
    "    # Log scale\n",
    "    ln_X = X.apply(lambda x: np.log2(x + 1))\n",
    "    log_scores = cross_val_score(clf, ln_X, y, n_jobs=-1)\n",
    "    print 'log2', np.mean(log_scores), np.std(log_scores)\n",
    "    # Feature Scaling\n",
    "    scale_X = scale(X)\n",
    "    scale_scores = cross_val_score(clf, scale_X, y, n_jobs=-1)\n",
    "    print 'scale', np.mean(scale_scores), np.std(scale_scores)\n",
    "    return raw_scores, log_scores, scale_scores"
   ]
  },
  {
   "cell_type": "markdown",
   "metadata": {},
   "source": [
    "## RandomForest"
   ]
  },
  {
   "cell_type": "code",
   "execution_count": 3,
   "metadata": {
    "collapsed": true
   },
   "outputs": [],
   "source": [
    "from sklearn.ensemble import RandomForestClassifier"
   ]
  },
  {
   "cell_type": "code",
   "execution_count": 4,
   "metadata": {
    "collapsed": true
   },
   "outputs": [],
   "source": [
    "clf = RandomForestClassifier()"
   ]
  },
  {
   "cell_type": "code",
   "execution_count": 5,
   "metadata": {
    "collapsed": false
   },
   "outputs": [
    {
     "name": "stdout",
     "output_type": "stream",
     "text": [
      "Raw 0.839888196127 0.0557017425924\n",
      "log2 0.840533909584 0.0553764807566\n",
      "scale 0.839888196127 0.0557017425924\n"
     ]
    }
   ],
   "source": [
    "raw_rf, ln_rf, scale_rf = test_clf(clf, exp_df, y)"
   ]
  },
  {
   "cell_type": "code",
   "execution_count": 6,
   "metadata": {
    "collapsed": false
   },
   "outputs": [
    {
     "name": "stdout",
     "output_type": "stream",
     "text": [
      "Raw 0.791026355257 0.0662608180184\n",
      "log2 0.792128077838 0.0654161513826\n",
      "scale 0.791118207925 0.0661498338899\n"
     ]
    }
   ],
   "source": [
    "raw_rf_ucsf, ln_rf_ucsf, scale_rf_ucsf = test_clf(clf, ucsf_df, y)"
   ]
  },
  {
   "cell_type": "markdown",
   "metadata": {},
   "source": [
    "## ExtraTrees"
   ]
  },
  {
   "cell_type": "code",
   "execution_count": 7,
   "metadata": {
    "collapsed": true
   },
   "outputs": [],
   "source": [
    "from sklearn.ensemble import ExtraTreesClassifier"
   ]
  },
  {
   "cell_type": "code",
   "execution_count": 8,
   "metadata": {
    "collapsed": true
   },
   "outputs": [],
   "source": [
    "clf = ExtraTreesClassifier()"
   ]
  },
  {
   "cell_type": "code",
   "execution_count": 9,
   "metadata": {
    "collapsed": false
   },
   "outputs": [
    {
     "name": "stdout",
     "output_type": "stream",
     "text": [
      "Raw 0.787157414782 0.0673018753215\n",
      "log2 0.831152056753 0.0619894331496\n",
      "scale 0.787157414782 0.0673018753215\n"
     ]
    }
   ],
   "source": [
    "raw_et, ln_et, scale_et = test_clf(clf, exp_df, y)"
   ]
  },
  {
   "cell_type": "code",
   "execution_count": 10,
   "metadata": {
    "collapsed": false
   },
   "outputs": [
    {
     "name": "stdout",
     "output_type": "stream",
     "text": [
      "Raw 0.742786346135 0.0685745015462\n",
      "log2 0.801669789498 0.0464330150942\n",
      "scale 0.742786346135 0.0685745015462\n"
     ]
    }
   ],
   "source": [
    "raw_et_ucsf, ln_et_ucsf, scale_et_ucsf = test_clf(clf, ucsf_df, y)"
   ]
  },
  {
   "cell_type": "markdown",
   "metadata": {},
   "source": [
    "# AdaBoost"
   ]
  },
  {
   "cell_type": "code",
   "execution_count": 11,
   "metadata": {
    "collapsed": true
   },
   "outputs": [],
   "source": [
    "from sklearn.ensemble import AdaBoostClassifier"
   ]
  },
  {
   "cell_type": "code",
   "execution_count": 12,
   "metadata": {
    "collapsed": true
   },
   "outputs": [],
   "source": [
    "clf = AdaBoostClassifier()"
   ]
  },
  {
   "cell_type": "code",
   "execution_count": 13,
   "metadata": {
    "collapsed": false
   },
   "outputs": [
    {
     "name": "stdout",
     "output_type": "stream",
     "text": [
      "Raw 0.271439645742 0.0583492633856\n",
      "log2 0.271531854133 0.0584754966475\n",
      "scale 0.26646039263 0.0515634900851\n"
     ]
    }
   ],
   "source": [
    "raw_ad, ln_ad, scale_ad = test_clf(clf, exp_df, y)"
   ]
  },
  {
   "cell_type": "code",
   "execution_count": 14,
   "metadata": {
    "collapsed": false
   },
   "outputs": [
    {
     "name": "stdout",
     "output_type": "stream",
     "text": [
      "Raw 0.409128730937 0.0531409818434\n",
      "log2 0.409128730937 0.0531409818434\n",
      "scale 0.409128730937 0.0531409818434\n"
     ]
    }
   ],
   "source": [
    "raw_ad_ucsf, ln_ad_ucsf, scale_ad_ucsf = test_clf(clf, ucsf_df, y)"
   ]
  }
 ],
 "metadata": {
  "anaconda-cloud": {},
  "kernelspec": {
   "display_name": "Python [conda root]",
   "language": "python",
   "name": "conda-root-py"
  },
  "language_info": {
   "codemirror_mode": {
    "name": "ipython",
    "version": 2
   },
   "file_extension": ".py",
   "mimetype": "text/x-python",
   "name": "python",
   "nbconvert_exporter": "python",
   "pygments_lexer": "ipython2",
   "version": "2.7.12"
  }
 },
 "nbformat": 4,
 "nbformat_minor": 1
}
