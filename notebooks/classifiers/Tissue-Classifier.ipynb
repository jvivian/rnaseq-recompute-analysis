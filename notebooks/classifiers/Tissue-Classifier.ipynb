{
 "cells": [
  {
   "cell_type": "code",
   "execution_count": 1,
   "metadata": {
    "collapsed": false
   },
   "outputs": [],
   "source": [
    "%matplotlib inline\n",
    "from IPython.display import display\n",
    "import seaborn as sns\n",
    "import matplotlib.pyplot as plt\n",
    "import numpy as np\n",
    "import pandas as pd\n",
    "pd.set_option(\"display.max_columns\", 5)\n",
    "\n",
    "from sklearn.svm import LinearSVC\n",
    "from sklearn.model_selection import train_test_split\n",
    "from sklearn.model_selection import cross_val_score\n",
    "from sklearn.preprocessing import scale\n",
    "from sklearn.feature_selection import SelectFromModel\n",
    "\n",
    "import os\n",
    "import pickle"
   ]
  },
  {
   "cell_type": "markdown",
   "metadata": {},
   "source": [
    "# Tissue Classifier \n",
    "\n",
    "Goal: Build a classifier that calls what tissue a sample originated from, given a set of genes as input.\n",
    "\n",
    "We'll test a myriad of options:\n",
    "\n",
    "- Data normalization\n",
    "- Model Selection\n",
    "- Feature Selection\n",
    "- Hyperparameter Tuning\n",
    "- UCSF Oncogene subset (feature selection based on priors)"
   ]
  },
  {
   "cell_type": "markdown",
   "metadata": {},
   "source": [
    "First, we'll prepare our dataframe, which in machine learning land is our data matrix $X$, organized _tidily_, i.e. **rows** are observations (samples) and **columns** are features (genes). "
   ]
  },
  {
   "cell_type": "code",
   "execution_count": 3,
   "metadata": {
    "collapsed": true
   },
   "outputs": [],
   "source": [
    "exp_dir = '/mnt/rna-seq-analysis/rna-seq-analysis/data/tissue-pairs'\n",
    "tissues = os.listdir(exp_dir)\n",
    "tsv = 'combined-gtex-tcga-counts-protein-coding.tsv'\n",
    "exp_df = pd.concat([pd.read_csv(os.path.join(exp_dir, t, tsv), sep='\\t', index_col=0) for t in tissues], axis=1)\n",
    "# Remove dupes\n",
    "exp_df = exp_df.T.groupby(level=0).first().T\n",
    "# Subset by normal / tumor samples\n",
    "samples = [x for x in exp_df.columns if x.startswith('GTEX') or (x.endswith('01') or x.endswith('11'))]\n",
    "exp_df = exp_df[samples]\n",
    "# Transpose so genes (features) are columns\n",
    "exp_df = exp_df.T"
   ]
  },
  {
   "cell_type": "code",
   "execution_count": 4,
   "metadata": {
    "collapsed": false,
    "scrolled": true
   },
   "outputs": [
    {
     "name": "stdout",
     "output_type": "stream",
     "text": [
      "(10864, 19797)\n"
     ]
    },
    {
     "data": {
      "text/html": [
       "<div>\n",
       "<table border=\"1\" class=\"dataframe\">\n",
       "  <thead>\n",
       "    <tr style=\"text-align: right;\">\n",
       "      <th></th>\n",
       "      <th>ENSG00000116032.5</th>\n",
       "      <th>ENSG00000171174.13</th>\n",
       "      <th>...</th>\n",
       "      <th>ENSG00000167747.13</th>\n",
       "      <th>ENSG00000181518.3</th>\n",
       "    </tr>\n",
       "  </thead>\n",
       "  <tbody>\n",
       "    <tr>\n",
       "      <th>GTEX-1117F-2226-SM-5N9CH</th>\n",
       "      <td>24.000759</td>\n",
       "      <td>259.998915</td>\n",
       "      <td>...</td>\n",
       "      <td>632.982848</td>\n",
       "      <td>0.0</td>\n",
       "    </tr>\n",
       "    <tr>\n",
       "      <th>GTEX-1117F-2426-SM-5EGGH</th>\n",
       "      <td>11.999642</td>\n",
       "      <td>57.000764</td>\n",
       "      <td>...</td>\n",
       "      <td>445.990389</td>\n",
       "      <td>0.0</td>\n",
       "    </tr>\n",
       "    <tr>\n",
       "      <th>GTEX-1117F-2826-SM-5GZXL</th>\n",
       "      <td>16.000438</td>\n",
       "      <td>81.002728</td>\n",
       "      <td>...</td>\n",
       "      <td>549.004648</td>\n",
       "      <td>0.0</td>\n",
       "    </tr>\n",
       "    <tr>\n",
       "      <th>GTEX-111CU-0126-SM-5GZWZ</th>\n",
       "      <td>3.999903</td>\n",
       "      <td>934.309480</td>\n",
       "      <td>...</td>\n",
       "      <td>913.982284</td>\n",
       "      <td>0.0</td>\n",
       "    </tr>\n",
       "    <tr>\n",
       "      <th>GTEX-111CU-0226-SM-5GZXC</th>\n",
       "      <td>22.000607</td>\n",
       "      <td>229.992148</td>\n",
       "      <td>...</td>\n",
       "      <td>1629.953574</td>\n",
       "      <td>1.0</td>\n",
       "    </tr>\n",
       "  </tbody>\n",
       "</table>\n",
       "<p>5 rows × 19797 columns</p>\n",
       "</div>"
      ],
      "text/plain": [
       "                          ENSG00000116032.5  ENSG00000171174.13  \\\n",
       "GTEX-1117F-2226-SM-5N9CH          24.000759          259.998915   \n",
       "GTEX-1117F-2426-SM-5EGGH          11.999642           57.000764   \n",
       "GTEX-1117F-2826-SM-5GZXL          16.000438           81.002728   \n",
       "GTEX-111CU-0126-SM-5GZWZ           3.999903          934.309480   \n",
       "GTEX-111CU-0226-SM-5GZXC          22.000607          229.992148   \n",
       "\n",
       "                                ...          ENSG00000167747.13  \\\n",
       "GTEX-1117F-2226-SM-5N9CH        ...                  632.982848   \n",
       "GTEX-1117F-2426-SM-5EGGH        ...                  445.990389   \n",
       "GTEX-1117F-2826-SM-5GZXL        ...                  549.004648   \n",
       "GTEX-111CU-0126-SM-5GZWZ        ...                  913.982284   \n",
       "GTEX-111CU-0226-SM-5GZXC        ...                 1629.953574   \n",
       "\n",
       "                          ENSG00000181518.3  \n",
       "GTEX-1117F-2226-SM-5N9CH                0.0  \n",
       "GTEX-1117F-2426-SM-5EGGH                0.0  \n",
       "GTEX-1117F-2826-SM-5GZXL                0.0  \n",
       "GTEX-111CU-0126-SM-5GZWZ                0.0  \n",
       "GTEX-111CU-0226-SM-5GZXC                1.0  \n",
       "\n",
       "[5 rows x 19797 columns]"
      ]
     },
     "execution_count": 4,
     "metadata": {},
     "output_type": "execute_result"
    }
   ],
   "source": [
    "print exp_df.shape\n",
    "exp_df.head()"
   ]
  },
  {
   "cell_type": "markdown",
   "metadata": {},
   "source": [
    "### Unnormalized\n",
    "Let's see how well the raw data performs before adding in normalization (guess: not great).\n",
    "\n",
    "Since we're doing _supervised_ tissue classification, we'll need a y-vector that maps each sample to its corresponding tissue of origin. "
   ]
  },
  {
   "cell_type": "code",
   "execution_count": 5,
   "metadata": {
    "collapsed": false
   },
   "outputs": [],
   "source": [
    "tissue_map = pickle.load(open('../../data/tissue_map.pickle', 'rb'))"
   ]
  },
  {
   "cell_type": "code",
   "execution_count": 6,
   "metadata": {
    "collapsed": false
   },
   "outputs": [],
   "source": [
    "y = np.array([tissue_map[x] for x in exp_df.index])"
   ]
  },
  {
   "cell_type": "markdown",
   "metadata": {},
   "source": [
    "We'll start naively by selecting a model based on the [SKLearn cheat sheet](http://scikit-learn.org/stable/tutorial/machine_learning_map/), although we will reconsider model selection later on."
   ]
  },
  {
   "cell_type": "code",
   "execution_count": 7,
   "metadata": {
    "collapsed": true
   },
   "outputs": [],
   "source": [
    "model = LinearSVC()"
   ]
  },
  {
   "cell_type": "code",
   "execution_count": 7,
   "metadata": {
    "collapsed": false
   },
   "outputs": [],
   "source": [
    "raw_score = cross_val_score(model, exp_df, y, n_jobs=-1)"
   ]
  },
  {
   "cell_type": "code",
   "execution_count": 8,
   "metadata": {
    "collapsed": false
   },
   "outputs": [
    {
     "name": "stdout",
     "output_type": "stream",
     "text": [
      "0.843759973539 0.0598843137001\n"
     ]
    }
   ],
   "source": [
    "raw_mean = np.mean(raw_score)\n",
    "raw_std = np.std(raw_score)\n",
    "print raw_mean, raw_std"
   ]
  },
  {
   "cell_type": "markdown",
   "metadata": {
    "collapsed": false
   },
   "source": [
    "### Log Normalization\n",
    "We'll start with log2(x + 1) normalization, which we don't necessarily expect to perform well given SVM's preference for data centered around 0. "
   ]
  },
  {
   "cell_type": "code",
   "execution_count": null,
   "metadata": {
    "collapsed": true
   },
   "outputs": [],
   "source": [
    "ln_df = exp_df.apply(lambda x: np.log2(x + 1))"
   ]
  },
  {
   "cell_type": "code",
   "execution_count": null,
   "metadata": {
    "collapsed": false
   },
   "outputs": [],
   "source": [
    "ln_df.head()"
   ]
  },
  {
   "cell_type": "code",
   "execution_count": 11,
   "metadata": {
    "collapsed": false
   },
   "outputs": [],
   "source": [
    "ln_score = cross_val_score(model, ln_df, y, n_jobs=-1)"
   ]
  },
  {
   "cell_type": "code",
   "execution_count": 12,
   "metadata": {
    "collapsed": false
   },
   "outputs": [
    {
     "name": "stdout",
     "output_type": "stream",
     "text": [
      "0.903411473996 0.0581555737476\n"
     ]
    }
   ],
   "source": [
    "ln_mean = np.mean(ln_score)\n",
    "ln_std = np.std(ln_score)\n",
    "print ln_mean, ln_std"
   ]
  },
  {
   "cell_type": "markdown",
   "metadata": {
    "collapsed": true
   },
   "source": [
    "### Scale"
   ]
  },
  {
   "cell_type": "code",
   "execution_count": 8,
   "metadata": {
    "collapsed": true
   },
   "outputs": [],
   "source": [
    "scale_df = scale(exp_df)"
   ]
  },
  {
   "cell_type": "code",
   "execution_count": 9,
   "metadata": {
    "collapsed": false
   },
   "outputs": [
    {
     "data": {
      "text/html": [
       "<div>\n",
       "<table border=\"1\" class=\"dataframe\">\n",
       "  <thead>\n",
       "    <tr style=\"text-align: right;\">\n",
       "      <th></th>\n",
       "      <th>0</th>\n",
       "      <th>1</th>\n",
       "      <th>...</th>\n",
       "      <th>19795</th>\n",
       "      <th>19796</th>\n",
       "    </tr>\n",
       "  </thead>\n",
       "  <tbody>\n",
       "    <tr>\n",
       "      <th>0</th>\n",
       "      <td>-0.062156</td>\n",
       "      <td>-0.275664</td>\n",
       "      <td>...</td>\n",
       "      <td>-0.610636</td>\n",
       "      <td>-0.180868</td>\n",
       "    </tr>\n",
       "    <tr>\n",
       "      <th>1</th>\n",
       "      <td>-0.171540</td>\n",
       "      <td>-0.726695</td>\n",
       "      <td>...</td>\n",
       "      <td>-0.649652</td>\n",
       "      <td>-0.180868</td>\n",
       "    </tr>\n",
       "    <tr>\n",
       "      <th>2</th>\n",
       "      <td>-0.135075</td>\n",
       "      <td>-0.673366</td>\n",
       "      <td>...</td>\n",
       "      <td>-0.628158</td>\n",
       "      <td>-0.180868</td>\n",
       "    </tr>\n",
       "    <tr>\n",
       "      <th>3</th>\n",
       "      <td>-0.244454</td>\n",
       "      <td>1.222552</td>\n",
       "      <td>...</td>\n",
       "      <td>-0.552005</td>\n",
       "      <td>-0.180868</td>\n",
       "    </tr>\n",
       "    <tr>\n",
       "      <th>4</th>\n",
       "      <td>-0.080387</td>\n",
       "      <td>-0.342335</td>\n",
       "      <td>...</td>\n",
       "      <td>-0.402617</td>\n",
       "      <td>0.782809</td>\n",
       "    </tr>\n",
       "  </tbody>\n",
       "</table>\n",
       "<p>5 rows × 19797 columns</p>\n",
       "</div>"
      ],
      "text/plain": [
       "      0         1        ...        19795     19796\n",
       "0 -0.062156 -0.275664    ...    -0.610636 -0.180868\n",
       "1 -0.171540 -0.726695    ...    -0.649652 -0.180868\n",
       "2 -0.135075 -0.673366    ...    -0.628158 -0.180868\n",
       "3 -0.244454  1.222552    ...    -0.552005 -0.180868\n",
       "4 -0.080387 -0.342335    ...    -0.402617  0.782809\n",
       "\n",
       "[5 rows x 19797 columns]"
      ]
     },
     "execution_count": 9,
     "metadata": {},
     "output_type": "execute_result"
    }
   ],
   "source": [
    "pd.DataFrame(scale_df).head()"
   ]
  },
  {
   "cell_type": "code",
   "execution_count": 17,
   "metadata": {
    "collapsed": false
   },
   "outputs": [],
   "source": [
    "scale_score = cross_val_score(model, scale_df, y, n_jobs=-1)"
   ]
  },
  {
   "cell_type": "code",
   "execution_count": 18,
   "metadata": {
    "collapsed": false
   },
   "outputs": [
    {
     "name": "stdout",
     "output_type": "stream",
     "text": [
      "0.874711009657 0.0677085124036\n"
     ]
    }
   ],
   "source": [
    "scale_mean = np.mean(scale_score)\n",
    "scale_std = np.std(scale_score)\n",
    "print scale_mean, scale_std"
   ]
  },
  {
   "cell_type": "markdown",
   "metadata": {
    "collapsed": true
   },
   "source": [
    "### Feature Selection"
   ]
  },
  {
   "cell_type": "code",
   "execution_count": 10,
   "metadata": {
    "collapsed": false
   },
   "outputs": [],
   "source": [
    "sfm = SelectFromModel(model)"
   ]
  },
  {
   "cell_type": "code",
   "execution_count": 12,
   "metadata": {
    "collapsed": false
   },
   "outputs": [],
   "source": [
    "new = sfm.fit_transform(scale_df, y)"
   ]
  },
  {
   "cell_type": "code",
   "execution_count": 13,
   "metadata": {
    "collapsed": false
   },
   "outputs": [
    {
     "data": {
      "text/plain": [
       "(10864, 9021)"
      ]
     },
     "execution_count": 13,
     "metadata": {},
     "output_type": "execute_result"
    }
   ],
   "source": [
    "new.shape"
   ]
  },
  {
   "cell_type": "code",
   "execution_count": 15,
   "metadata": {
    "collapsed": true
   },
   "outputs": [],
   "source": [
    "fs_score = cross_val_score(model, new, y, n_jobs=-1)"
   ]
  },
  {
   "cell_type": "code",
   "execution_count": 19,
   "metadata": {
    "collapsed": false
   },
   "outputs": [
    {
     "name": "stdout",
     "output_type": "stream",
     "text": [
      "0.884736283471 0.0626260771137\n"
     ]
    }
   ],
   "source": [
    "fs_mean = np.mean(fs_score)\n",
    "fs_std = np.std(fs_score)\n",
    "print fs_mean, fs_std"
   ]
  },
  {
   "cell_type": "markdown",
   "metadata": {
    "collapsed": true
   },
   "source": [
    "#### log df"
   ]
  },
  {
   "cell_type": "code",
   "execution_count": null,
   "metadata": {
    "collapsed": false
   },
   "outputs": [],
   "source": [
    "new = sfm.fit_transform(ln_df, y)"
   ]
  },
  {
   "cell_type": "code",
   "execution_count": null,
   "metadata": {
    "collapsed": false
   },
   "outputs": [],
   "source": [
    "new.shape"
   ]
  },
  {
   "cell_type": "code",
   "execution_count": null,
   "metadata": {
    "collapsed": true
   },
   "outputs": [],
   "source": [
    "fs_score = cross_val_score(model, new, y, n_jobs=-1)"
   ]
  },
  {
   "cell_type": "code",
   "execution_count": 30,
   "metadata": {
    "collapsed": false
   },
   "outputs": [
    {
     "name": "stdout",
     "output_type": "stream",
     "text": [
      "0.909842732963 0.0523932713832\n"
     ]
    }
   ],
   "source": [
    "fs_mean = np.mean(fs_score)\n",
    "fs_std = np.std(fs_score)\n",
    "print fs_mean, fs_std"
   ]
  },
  {
   "cell_type": "code",
   "execution_count": null,
   "metadata": {
    "collapsed": true
   },
   "outputs": [],
   "source": []
  },
  {
   "cell_type": "code",
   "execution_count": null,
   "metadata": {
    "collapsed": true
   },
   "outputs": [],
   "source": []
  },
  {
   "cell_type": "code",
   "execution_count": null,
   "metadata": {
    "collapsed": true
   },
   "outputs": [],
   "source": []
  },
  {
   "cell_type": "code",
   "execution_count": null,
   "metadata": {
    "collapsed": true
   },
   "outputs": [],
   "source": []
  },
  {
   "cell_type": "code",
   "execution_count": null,
   "metadata": {
    "collapsed": true
   },
   "outputs": [],
   "source": []
  },
  {
   "cell_type": "code",
   "execution_count": null,
   "metadata": {
    "collapsed": true
   },
   "outputs": [],
   "source": []
  },
  {
   "cell_type": "code",
   "execution_count": null,
   "metadata": {
    "collapsed": true
   },
   "outputs": [],
   "source": []
  }
 ],
 "metadata": {
  "anaconda-cloud": {},
  "kernelspec": {
   "display_name": "Python [default]",
   "language": "python",
   "name": "python2"
  },
  "language_info": {
   "codemirror_mode": {
    "name": "ipython",
    "version": 2
   },
   "file_extension": ".py",
   "mimetype": "text/x-python",
   "name": "python",
   "nbconvert_exporter": "python",
   "pygments_lexer": "ipython2",
   "version": "2.7.12"
  }
 },
 "nbformat": 4,
 "nbformat_minor": 0
}
